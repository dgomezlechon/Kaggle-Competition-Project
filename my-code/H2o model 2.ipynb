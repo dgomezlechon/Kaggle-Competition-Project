{
 "cells": [
  {
   "cell_type": "code",
   "execution_count": 1,
   "metadata": {
    "id": "pvKlgG5x-oik"
   },
   "outputs": [],
   "source": [
    "import pandas as pd\n",
    "from sklearn.model_selection import train_test_split as tts\n",
    "import h2o\n",
    "from h2o.automl import H2OAutoML\n",
    "\n"
   ]
  },
  {
   "cell_type": "code",
   "execution_count": 2,
   "metadata": {
    "colab": {
     "base_uri": "https://localhost:8080/"
    },
    "id": "pvXSHXAW-oiq",
    "outputId": "fc49ef38-1c1b-4e0e-e37e-cec0f39d6d5f"
   },
   "outputs": [
    {
     "name": "stdout",
     "output_type": "stream",
     "text": [
      "Requirement already satisfied: scikit-learn in /Users/danigomezlechonbarrachina/opt/anaconda3/lib/python3.9/site-packages (1.0.2)\n",
      "\u001b[33mWARNING: Retrying (Retry(total=4, connect=None, read=None, redirect=None, status=None)) after connection broken by 'NewConnectionError('<pip._vendor.urllib3.connection.HTTPSConnection object at 0x7fd5fb10bb80>: Failed to establish a new connection: [Errno 8] nodename nor servname provided, or not known')': /simple/scikit-learn/\u001b[0m\n",
      "\u001b[33mWARNING: Retrying (Retry(total=3, connect=None, read=None, redirect=None, status=None)) after connection broken by 'NewConnectionError('<pip._vendor.urllib3.connection.HTTPSConnection object at 0x7fd5fb10b820>: Failed to establish a new connection: [Errno 8] nodename nor servname provided, or not known')': /simple/scikit-learn/\u001b[0m\n",
      "\u001b[33mWARNING: Retrying (Retry(total=2, connect=None, read=None, redirect=None, status=None)) after connection broken by 'NewConnectionError('<pip._vendor.urllib3.connection.HTTPSConnection object at 0x7fd5fb112040>: Failed to establish a new connection: [Errno 8] nodename nor servname provided, or not known')': /simple/scikit-learn/\u001b[0m\n",
      "\u001b[33mWARNING: Retrying (Retry(total=1, connect=None, read=None, redirect=None, status=None)) after connection broken by 'NewConnectionError('<pip._vendor.urllib3.connection.HTTPSConnection object at 0x7fd5fb112970>: Failed to establish a new connection: [Errno 8] nodename nor servname provided, or not known')': /simple/scikit-learn/\u001b[0m\n",
      "\u001b[33mWARNING: Retrying (Retry(total=0, connect=None, read=None, redirect=None, status=None)) after connection broken by 'NewConnectionError('<pip._vendor.urllib3.connection.HTTPSConnection object at 0x7fd5fb1127c0>: Failed to establish a new connection: [Errno 8] nodename nor servname provided, or not known')': /simple/scikit-learn/\u001b[0m\n",
      "Requirement already satisfied: joblib>=0.11 in /Users/danigomezlechonbarrachina/opt/anaconda3/lib/python3.9/site-packages (from scikit-learn) (1.1.0)\n",
      "Requirement already satisfied: threadpoolctl>=2.0.0 in /Users/danigomezlechonbarrachina/opt/anaconda3/lib/python3.9/site-packages (from scikit-learn) (2.2.0)\n",
      "Requirement already satisfied: scipy>=1.1.0 in /Users/danigomezlechonbarrachina/opt/anaconda3/lib/python3.9/site-packages (from scikit-learn) (1.7.1)\n",
      "Requirement already satisfied: numpy>=1.14.6 in /Users/danigomezlechonbarrachina/opt/anaconda3/lib/python3.9/site-packages (from scikit-learn) (1.20.3)\n"
     ]
    }
   ],
   "source": [
    "!pip install -U scikit-learn"
   ]
  },
  {
   "cell_type": "code",
   "execution_count": 3,
   "metadata": {
    "colab": {
     "base_uri": "https://localhost:8080/"
    },
    "id": "n0GTTvaU-oir",
    "outputId": "02a990bf-bc16-43cb-a007-b54cfa937344"
   },
   "outputs": [
    {
     "name": "stdout",
     "output_type": "stream",
     "text": [
      "Requirement already satisfied: h2o in /Users/danigomezlechonbarrachina/opt/anaconda3/lib/python3.9/site-packages (3.36.1.1)\n",
      "Requirement already satisfied: tabulate in /Users/danigomezlechonbarrachina/opt/anaconda3/lib/python3.9/site-packages (from h2o) (0.8.9)\n",
      "Requirement already satisfied: requests in /Users/danigomezlechonbarrachina/opt/anaconda3/lib/python3.9/site-packages (from h2o) (2.26.0)\n",
      "Requirement already satisfied: future in /Users/danigomezlechonbarrachina/opt/anaconda3/lib/python3.9/site-packages (from h2o) (0.18.2)\n",
      "Requirement already satisfied: idna<4,>=2.5 in /Users/danigomezlechonbarrachina/opt/anaconda3/lib/python3.9/site-packages (from requests->h2o) (3.2)\n",
      "Requirement already satisfied: charset-normalizer~=2.0.0 in /Users/danigomezlechonbarrachina/opt/anaconda3/lib/python3.9/site-packages (from requests->h2o) (2.0.4)\n",
      "Requirement already satisfied: certifi>=2017.4.17 in /Users/danigomezlechonbarrachina/opt/anaconda3/lib/python3.9/site-packages (from requests->h2o) (2021.10.8)\n",
      "Requirement already satisfied: urllib3<1.27,>=1.21.1 in /Users/danigomezlechonbarrachina/opt/anaconda3/lib/python3.9/site-packages (from requests->h2o) (1.26.7)\n"
     ]
    }
   ],
   "source": [
    "!pip install h2o"
   ]
  },
  {
   "cell_type": "code",
   "execution_count": 4,
   "metadata": {
    "id": "EtBZI1BE-ois"
   },
   "outputs": [],
   "source": [
    "train=pd.read_csv(\"../data/outcomes_models/train_mod_limp2.csv\",encoding=\"unicode_escape\")"
   ]
  },
  {
   "cell_type": "code",
   "execution_count": 5,
   "metadata": {
    "colab": {
     "base_uri": "https://localhost:8080/",
     "height": 520
    },
    "id": "4gCt1KEW-ois",
    "outputId": "429e98dd-fad3-4a82-8a60-c8949db9dc2e"
   },
   "outputs": [
    {
     "name": "stdout",
     "output_type": "stream",
     "text": [
      "Checking whether there is an H2O instance running at http://localhost:54321 ..... not found.\n",
      "Attempting to start a local H2O server...\n",
      "  Java Version: java version \"1.8.0_333\"; Java(TM) SE Runtime Environment (build 1.8.0_333-b02); Java HotSpot(TM) 64-Bit Server VM (build 25.333-b02, mixed mode)\n",
      "  Starting server from /Users/danigomezlechonbarrachina/opt/anaconda3/lib/python3.9/site-packages/h2o/backend/bin/h2o.jar\n",
      "  Ice root: /var/folders/tr/7ry1klqj22sglvfj6nq3g5kw0000gn/T/tmp9v3x5ctt\n",
      "  JVM stdout: /var/folders/tr/7ry1klqj22sglvfj6nq3g5kw0000gn/T/tmp9v3x5ctt/h2o_danigomezlechonbarrachina_started_from_python.out\n",
      "  JVM stderr: /var/folders/tr/7ry1klqj22sglvfj6nq3g5kw0000gn/T/tmp9v3x5ctt/h2o_danigomezlechonbarrachina_started_from_python.err\n",
      "  Server is running at http://127.0.0.1:54321\n",
      "Connecting to H2O server at http://127.0.0.1:54321 ... successful.\n"
     ]
    },
    {
     "data": {
      "text/html": [
       "<div style=\"overflow:auto\"><table style=\"width:50%\"><tr><td>H2O_cluster_uptime:</td>\n",
       "<td>03 secs</td></tr>\n",
       "<tr><td>H2O_cluster_timezone:</td>\n",
       "<td>Europe/Madrid</td></tr>\n",
       "<tr><td>H2O_data_parsing_timezone:</td>\n",
       "<td>UTC</td></tr>\n",
       "<tr><td>H2O_cluster_version:</td>\n",
       "<td>3.36.1.1</td></tr>\n",
       "<tr><td>H2O_cluster_version_age:</td>\n",
       "<td>23 days </td></tr>\n",
       "<tr><td>H2O_cluster_name:</td>\n",
       "<td>H2O_from_python_danigomezlechonbarrachina_kntlgc</td></tr>\n",
       "<tr><td>H2O_cluster_total_nodes:</td>\n",
       "<td>1</td></tr>\n",
       "<tr><td>H2O_cluster_free_memory:</td>\n",
       "<td>1.778 Gb</td></tr>\n",
       "<tr><td>H2O_cluster_total_cores:</td>\n",
       "<td>4</td></tr>\n",
       "<tr><td>H2O_cluster_allowed_cores:</td>\n",
       "<td>4</td></tr>\n",
       "<tr><td>H2O_cluster_status:</td>\n",
       "<td>locked, healthy</td></tr>\n",
       "<tr><td>H2O_connection_url:</td>\n",
       "<td>http://127.0.0.1:54321</td></tr>\n",
       "<tr><td>H2O_connection_proxy:</td>\n",
       "<td>{\"http\": null, \"https\": null}</td></tr>\n",
       "<tr><td>H2O_internal_security:</td>\n",
       "<td>False</td></tr>\n",
       "<tr><td>Python_version:</td>\n",
       "<td>3.9.7 final</td></tr></table></div>"
      ],
      "text/plain": [
       "--------------------------  ------------------------------------------------\n",
       "H2O_cluster_uptime:         03 secs\n",
       "H2O_cluster_timezone:       Europe/Madrid\n",
       "H2O_data_parsing_timezone:  UTC\n",
       "H2O_cluster_version:        3.36.1.1\n",
       "H2O_cluster_version_age:    23 days\n",
       "H2O_cluster_name:           H2O_from_python_danigomezlechonbarrachina_kntlgc\n",
       "H2O_cluster_total_nodes:    1\n",
       "H2O_cluster_free_memory:    1.778 Gb\n",
       "H2O_cluster_total_cores:    4\n",
       "H2O_cluster_allowed_cores:  4\n",
       "H2O_cluster_status:         locked, healthy\n",
       "H2O_connection_url:         http://127.0.0.1:54321\n",
       "H2O_connection_proxy:       {\"http\": null, \"https\": null}\n",
       "H2O_internal_security:      False\n",
       "Python_version:             3.9.7 final\n",
       "--------------------------  ------------------------------------------------"
      ]
     },
     "metadata": {},
     "output_type": "display_data"
    }
   ],
   "source": [
    "h2o.init()"
   ]
  },
  {
   "cell_type": "code",
   "execution_count": 6,
   "metadata": {
    "colab": {
     "base_uri": "https://localhost:8080/"
    },
    "id": "Q_5g2e6v-oiu",
    "outputId": "5837bf75-33ed-47b4-e7d6-78e91dae52af"
   },
   "outputs": [
    {
     "name": "stdout",
     "output_type": "stream",
     "text": [
      "Parse progress: |████████████████████████████████████████████████████████████████| (done) 100%\n"
     ]
    }
   ],
   "source": [
    "h2train=h2o.H2OFrame(train)"
   ]
  },
  {
   "cell_type": "code",
   "execution_count": 7,
   "metadata": {
    "id": "c27LaE7U-oiu"
   },
   "outputs": [],
   "source": [
    "X=[c for c in h2train.columns if c!='price']\n",
    "\n",
    "y='price'"
   ]
  },
  {
   "cell_type": "code",
   "execution_count": 8,
   "metadata": {
    "id": "_jwvUNxi-oiv"
   },
   "outputs": [],
   "source": [
    "# inicia auto-machine-learning\n",
    "\n",
    "automl=H2OAutoML(max_models=50,\n",
    "                 seed=42,   # random_state\n",
    "                 max_runtime_secs=300,\n",
    "                 sort_metric='RMSE')"
   ]
  },
  {
   "cell_type": "code",
   "execution_count": 9,
   "metadata": {
    "colab": {
     "base_uri": "https://localhost:8080/",
     "height": 1000
    },
    "id": "daGznwRq-oiw",
    "outputId": "21c7f49d-3e9e-4e1e-93b1-adaaaab8ea2d"
   },
   "outputs": [
    {
     "name": "stdout",
     "output_type": "stream",
     "text": [
      "AutoML progress: |\n",
      "17:07:44.533: _train param, Dropping bad and constant columns: [host_location_Kong, host_location_Austria, host_location_Brazil, host_location_Malta, host_location_Poland, host_location_Malaysia, host_location_PH, host_location_Mexico, host_location_Caledonia]\n",
      "\n",
      "█████\n",
      "17:08:05.821: _train param, Dropping bad and constant columns: [host_location_Kong, host_location_Austria, host_location_Brazil, host_location_Malta, host_location_Poland, host_location_Malaysia, host_location_PH, host_location_Mexico, host_location_Caledonia]\n",
      "\n",
      "█\n",
      "17:08:09.556: _train param, Dropping bad and constant columns: [host_location_Kong, host_location_Austria, host_location_Brazil, host_location_Malta, host_location_Poland, host_location_Malaysia, host_location_PH, host_location_Mexico, host_location_Caledonia]\n",
      "\n",
      "██\n",
      "17:08:19.909: _train param, Dropping bad and constant columns: [host_location_Kong, host_location_Austria, host_location_Brazil, host_location_Malta, host_location_Poland, host_location_Malaysia, host_location_PH, host_location_Mexico, host_location_Caledonia]\n",
      "\n",
      "████\n",
      "17:08:36.745: _train param, Dropping bad and constant columns: [host_location_Kong, host_location_Austria, host_location_Brazil, host_location_Malta, host_location_Poland, host_location_Malaysia, host_location_PH, host_location_Mexico, host_location_Caledonia]\n",
      "\n",
      "██████\n",
      "17:09:05.549: _train param, Dropping bad and constant columns: [host_location_Kong, host_location_Austria, host_location_Brazil, host_location_Malta, host_location_Poland, host_location_Malaysia, host_location_PH, host_location_Mexico, host_location_Caledonia]\n",
      "\n",
      "██\n",
      "17:09:15.884: _train param, Dropping bad and constant columns: [host_location_Kong, host_location_Austria, host_location_Brazil, host_location_Malta, host_location_Poland, host_location_Malaysia, host_location_PH, host_location_Mexico, host_location_Caledonia]\n",
      "\n",
      "█\n",
      "17:09:23.280: _train param, Dropping bad and constant columns: [host_location_Kong, host_location_Austria, host_location_Brazil, host_location_Malta, host_location_Poland, host_location_Malaysia, host_location_PH, host_location_Mexico, host_location_Caledonia]\n",
      "\n",
      "███\n",
      "17:09:35.765: _train param, Dropping bad and constant columns: [host_location_Kong, host_location_Austria, host_location_Brazil, host_location_Malta, host_location_Poland, host_location_Malaysia, host_location_PH, host_location_Mexico, host_location_Caledonia]\n",
      "\n",
      "█\n",
      "17:09:40.188: _train param, Dropping bad and constant columns: [host_location_Kong, host_location_Austria, host_location_Brazil, host_location_Malta, host_location_Poland, host_location_Malaysia, host_location_PH, host_location_Mexico, host_location_Caledonia]\n",
      "\n",
      "██████\n",
      "17:10:12.874: _train param, Dropping bad and constant columns: [host_location_Kong, host_location_Austria, host_location_Brazil, host_location_Malta, host_location_Poland, host_location_Malaysia, host_location_PH, host_location_Mexico, host_location_Caledonia]\n",
      "\n",
      "█\n",
      "17:10:16.724: _train param, Dropping bad and constant columns: [host_location_Kong, host_location_Austria, host_location_Brazil, host_location_Malta, host_location_Poland, host_location_Malaysia, host_location_PH, host_location_Mexico, host_location_Caledonia]\n",
      "\n",
      "███████████████████████████████| (done) 100%\n",
      "Model Details\n",
      "=============\n",
      "H2OXGBoostEstimator :  XGBoost\n",
      "Model Key:  XGBoost_grid_1_AutoML_1_20220506_170744_model_2\n",
      "\n",
      "\n",
      "Model Summary: \n"
     ]
    },
    {
     "data": {
      "text/html": [
       "<div>\n",
       "<style scoped>\n",
       "    .dataframe tbody tr th:only-of-type {\n",
       "        vertical-align: middle;\n",
       "    }\n",
       "\n",
       "    .dataframe tbody tr th {\n",
       "        vertical-align: top;\n",
       "    }\n",
       "\n",
       "    .dataframe thead th {\n",
       "        text-align: right;\n",
       "    }\n",
       "</style>\n",
       "<table border=\"1\" class=\"dataframe\">\n",
       "  <thead>\n",
       "    <tr style=\"text-align: right;\">\n",
       "      <th></th>\n",
       "      <th></th>\n",
       "      <th>number_of_trees</th>\n",
       "    </tr>\n",
       "  </thead>\n",
       "  <tbody>\n",
       "    <tr>\n",
       "      <th>0</th>\n",
       "      <td></td>\n",
       "      <td>33.0</td>\n",
       "    </tr>\n",
       "  </tbody>\n",
       "</table>\n",
       "</div>"
      ],
      "text/plain": [
       "     number_of_trees\n",
       "0               33.0"
      ]
     },
     "metadata": {},
     "output_type": "display_data"
    },
    {
     "name": "stdout",
     "output_type": "stream",
     "text": [
      "\n",
      "\n",
      "ModelMetricsRegression: xgboost\n",
      "** Reported on train data. **\n",
      "\n",
      "MSE: 160.75336814674478\n",
      "RMSE: 12.678855159151585\n",
      "MAE: 9.05350979245516\n",
      "RMSLE: 0.10949290581790493\n",
      "Mean Residual Deviance: 160.75336814674478\n",
      "\n",
      "ModelMetricsRegression: xgboost\n",
      "** Reported on cross-validation data. **\n",
      "\n",
      "MSE: 12691.368106075935\n",
      "RMSE: 112.65597234978684\n",
      "MAE: 54.68134291882819\n",
      "RMSLE: 0.4237219180993128\n",
      "Mean Residual Deviance: 12691.368106075935\n",
      "\n",
      "Cross-Validation Metrics Summary: \n"
     ]
    },
    {
     "data": {
      "text/html": [
       "<div>\n",
       "<style scoped>\n",
       "    .dataframe tbody tr th:only-of-type {\n",
       "        vertical-align: middle;\n",
       "    }\n",
       "\n",
       "    .dataframe tbody tr th {\n",
       "        vertical-align: top;\n",
       "    }\n",
       "\n",
       "    .dataframe thead th {\n",
       "        text-align: right;\n",
       "    }\n",
       "</style>\n",
       "<table border=\"1\" class=\"dataframe\">\n",
       "  <thead>\n",
       "    <tr style=\"text-align: right;\">\n",
       "      <th></th>\n",
       "      <th></th>\n",
       "      <th>mean</th>\n",
       "      <th>sd</th>\n",
       "      <th>cv_1_valid</th>\n",
       "      <th>cv_2_valid</th>\n",
       "      <th>cv_3_valid</th>\n",
       "      <th>cv_4_valid</th>\n",
       "      <th>cv_5_valid</th>\n",
       "    </tr>\n",
       "  </thead>\n",
       "  <tbody>\n",
       "    <tr>\n",
       "      <th>0</th>\n",
       "      <td>mae</td>\n",
       "      <td>54.679850</td>\n",
       "      <td>3.538847</td>\n",
       "      <td>60.893948</td>\n",
       "      <td>52.793910</td>\n",
       "      <td>54.039066</td>\n",
       "      <td>52.239086</td>\n",
       "      <td>53.433240</td>\n",
       "    </tr>\n",
       "    <tr>\n",
       "      <th>1</th>\n",
       "      <td>mean_residual_deviance</td>\n",
       "      <td>12689.782000</td>\n",
       "      <td>3810.748800</td>\n",
       "      <td>19298.342000</td>\n",
       "      <td>11760.726000</td>\n",
       "      <td>9509.503000</td>\n",
       "      <td>11044.069000</td>\n",
       "      <td>11836.270500</td>\n",
       "    </tr>\n",
       "    <tr>\n",
       "      <th>2</th>\n",
       "      <td>mse</td>\n",
       "      <td>12689.782000</td>\n",
       "      <td>3810.748800</td>\n",
       "      <td>19298.342000</td>\n",
       "      <td>11760.726000</td>\n",
       "      <td>9509.503000</td>\n",
       "      <td>11044.069000</td>\n",
       "      <td>11836.270500</td>\n",
       "    </tr>\n",
       "    <tr>\n",
       "      <th>3</th>\n",
       "      <td>r2</td>\n",
       "      <td>0.332870</td>\n",
       "      <td>0.441324</td>\n",
       "      <td>0.699733</td>\n",
       "      <td>-0.106264</td>\n",
       "      <td>0.374149</td>\n",
       "      <td>0.822420</td>\n",
       "      <td>-0.125689</td>\n",
       "    </tr>\n",
       "    <tr>\n",
       "      <th>4</th>\n",
       "      <td>residual_deviance</td>\n",
       "      <td>12689.782000</td>\n",
       "      <td>3810.748800</td>\n",
       "      <td>19298.342000</td>\n",
       "      <td>11760.726000</td>\n",
       "      <td>9509.503000</td>\n",
       "      <td>11044.069000</td>\n",
       "      <td>11836.270500</td>\n",
       "    </tr>\n",
       "    <tr>\n",
       "      <th>5</th>\n",
       "      <td>rmse</td>\n",
       "      <td>111.753490</td>\n",
       "      <td>15.848527</td>\n",
       "      <td>138.918470</td>\n",
       "      <td>108.446880</td>\n",
       "      <td>97.516685</td>\n",
       "      <td>105.090770</td>\n",
       "      <td>108.794624</td>\n",
       "    </tr>\n",
       "    <tr>\n",
       "      <th>6</th>\n",
       "      <td>rmsle</td>\n",
       "      <td>0.423189</td>\n",
       "      <td>0.023602</td>\n",
       "      <td>0.450194</td>\n",
       "      <td>0.406417</td>\n",
       "      <td>0.443819</td>\n",
       "      <td>0.420323</td>\n",
       "      <td>0.395193</td>\n",
       "    </tr>\n",
       "  </tbody>\n",
       "</table>\n",
       "</div>"
      ],
      "text/plain": [
       "                                   mean           sd    cv_1_valid  \\\n",
       "0                     mae     54.679850     3.538847     60.893948   \n",
       "1  mean_residual_deviance  12689.782000  3810.748800  19298.342000   \n",
       "2                     mse  12689.782000  3810.748800  19298.342000   \n",
       "3                      r2      0.332870     0.441324      0.699733   \n",
       "4       residual_deviance  12689.782000  3810.748800  19298.342000   \n",
       "5                    rmse    111.753490    15.848527    138.918470   \n",
       "6                   rmsle      0.423189     0.023602      0.450194   \n",
       "\n",
       "     cv_2_valid   cv_3_valid    cv_4_valid    cv_5_valid  \n",
       "0     52.793910    54.039066     52.239086     53.433240  \n",
       "1  11760.726000  9509.503000  11044.069000  11836.270500  \n",
       "2  11760.726000  9509.503000  11044.069000  11836.270500  \n",
       "3     -0.106264     0.374149      0.822420     -0.125689  \n",
       "4  11760.726000  9509.503000  11044.069000  11836.270500  \n",
       "5    108.446880    97.516685    105.090770    108.794624  \n",
       "6      0.406417     0.443819      0.420323      0.395193  "
      ]
     },
     "metadata": {},
     "output_type": "display_data"
    },
    {
     "name": "stdout",
     "output_type": "stream",
     "text": [
      "\n",
      "Scoring History: \n"
     ]
    },
    {
     "data": {
      "text/html": [
       "<div>\n",
       "<style scoped>\n",
       "    .dataframe tbody tr th:only-of-type {\n",
       "        vertical-align: middle;\n",
       "    }\n",
       "\n",
       "    .dataframe tbody tr th {\n",
       "        vertical-align: top;\n",
       "    }\n",
       "\n",
       "    .dataframe thead th {\n",
       "        text-align: right;\n",
       "    }\n",
       "</style>\n",
       "<table border=\"1\" class=\"dataframe\">\n",
       "  <thead>\n",
       "    <tr style=\"text-align: right;\">\n",
       "      <th></th>\n",
       "      <th></th>\n",
       "      <th>timestamp</th>\n",
       "      <th>duration</th>\n",
       "      <th>number_of_trees</th>\n",
       "      <th>training_rmse</th>\n",
       "      <th>training_mae</th>\n",
       "      <th>training_deviance</th>\n",
       "    </tr>\n",
       "  </thead>\n",
       "  <tbody>\n",
       "    <tr>\n",
       "      <th>0</th>\n",
       "      <td></td>\n",
       "      <td>2022-05-06 17:10:31</td>\n",
       "      <td>10.960 sec</td>\n",
       "      <td>0.0</td>\n",
       "      <td>246.835575</td>\n",
       "      <td>168.218195</td>\n",
       "      <td>60927.801128</td>\n",
       "    </tr>\n",
       "    <tr>\n",
       "      <th>1</th>\n",
       "      <td></td>\n",
       "      <td>2022-05-06 17:10:31</td>\n",
       "      <td>11.124 sec</td>\n",
       "      <td>5.0</td>\n",
       "      <td>62.007127</td>\n",
       "      <td>38.040667</td>\n",
       "      <td>3844.883773</td>\n",
       "    </tr>\n",
       "    <tr>\n",
       "      <th>2</th>\n",
       "      <td></td>\n",
       "      <td>2022-05-06 17:10:31</td>\n",
       "      <td>11.266 sec</td>\n",
       "      <td>10.0</td>\n",
       "      <td>34.284280</td>\n",
       "      <td>23.425375</td>\n",
       "      <td>1175.411838</td>\n",
       "    </tr>\n",
       "    <tr>\n",
       "      <th>3</th>\n",
       "      <td></td>\n",
       "      <td>2022-05-06 17:10:31</td>\n",
       "      <td>11.419 sec</td>\n",
       "      <td>15.0</td>\n",
       "      <td>24.818664</td>\n",
       "      <td>17.582438</td>\n",
       "      <td>615.966071</td>\n",
       "    </tr>\n",
       "    <tr>\n",
       "      <th>4</th>\n",
       "      <td></td>\n",
       "      <td>2022-05-06 17:10:32</td>\n",
       "      <td>11.582 sec</td>\n",
       "      <td>20.0</td>\n",
       "      <td>20.204726</td>\n",
       "      <td>14.264448</td>\n",
       "      <td>408.230971</td>\n",
       "    </tr>\n",
       "    <tr>\n",
       "      <th>5</th>\n",
       "      <td></td>\n",
       "      <td>2022-05-06 17:10:32</td>\n",
       "      <td>11.762 sec</td>\n",
       "      <td>25.0</td>\n",
       "      <td>16.703737</td>\n",
       "      <td>11.820620</td>\n",
       "      <td>279.014845</td>\n",
       "    </tr>\n",
       "    <tr>\n",
       "      <th>6</th>\n",
       "      <td></td>\n",
       "      <td>2022-05-06 17:10:32</td>\n",
       "      <td>11.952 sec</td>\n",
       "      <td>30.0</td>\n",
       "      <td>13.219682</td>\n",
       "      <td>9.529542</td>\n",
       "      <td>174.760001</td>\n",
       "    </tr>\n",
       "    <tr>\n",
       "      <th>7</th>\n",
       "      <td></td>\n",
       "      <td>2022-05-06 17:10:32</td>\n",
       "      <td>12.074 sec</td>\n",
       "      <td>33.0</td>\n",
       "      <td>12.678855</td>\n",
       "      <td>9.053510</td>\n",
       "      <td>160.753368</td>\n",
       "    </tr>\n",
       "  </tbody>\n",
       "</table>\n",
       "</div>"
      ],
      "text/plain": [
       "               timestamp    duration  number_of_trees  training_rmse  \\\n",
       "0    2022-05-06 17:10:31  10.960 sec              0.0     246.835575   \n",
       "1    2022-05-06 17:10:31  11.124 sec              5.0      62.007127   \n",
       "2    2022-05-06 17:10:31  11.266 sec             10.0      34.284280   \n",
       "3    2022-05-06 17:10:31  11.419 sec             15.0      24.818664   \n",
       "4    2022-05-06 17:10:32  11.582 sec             20.0      20.204726   \n",
       "5    2022-05-06 17:10:32  11.762 sec             25.0      16.703737   \n",
       "6    2022-05-06 17:10:32  11.952 sec             30.0      13.219682   \n",
       "7    2022-05-06 17:10:32  12.074 sec             33.0      12.678855   \n",
       "\n",
       "   training_mae  training_deviance  \n",
       "0    168.218195       60927.801128  \n",
       "1     38.040667        3844.883773  \n",
       "2     23.425375        1175.411838  \n",
       "3     17.582438         615.966071  \n",
       "4     14.264448         408.230971  \n",
       "5     11.820620         279.014845  \n",
       "6      9.529542         174.760001  \n",
       "7      9.053510         160.753368  "
      ]
     },
     "metadata": {},
     "output_type": "display_data"
    },
    {
     "name": "stdout",
     "output_type": "stream",
     "text": [
      "\n",
      "Variable Importances: \n"
     ]
    },
    {
     "data": {
      "text/html": [
       "<div>\n",
       "<style scoped>\n",
       "    .dataframe tbody tr th:only-of-type {\n",
       "        vertical-align: middle;\n",
       "    }\n",
       "\n",
       "    .dataframe tbody tr th {\n",
       "        vertical-align: top;\n",
       "    }\n",
       "\n",
       "    .dataframe thead th {\n",
       "        text-align: right;\n",
       "    }\n",
       "</style>\n",
       "<table border=\"1\" class=\"dataframe\">\n",
       "  <thead>\n",
       "    <tr style=\"text-align: right;\">\n",
       "      <th></th>\n",
       "      <th>variable</th>\n",
       "      <th>relative_importance</th>\n",
       "      <th>scaled_importance</th>\n",
       "      <th>percentage</th>\n",
       "    </tr>\n",
       "  </thead>\n",
       "  <tbody>\n",
       "    <tr>\n",
       "      <th>0</th>\n",
       "      <td>host_total_listings_count</td>\n",
       "      <td>6.642161e+07</td>\n",
       "      <td>1.000000</td>\n",
       "      <td>0.250893</td>\n",
       "    </tr>\n",
       "    <tr>\n",
       "      <th>1</th>\n",
       "      <td>host_acceptance_rate</td>\n",
       "      <td>2.465431e+07</td>\n",
       "      <td>0.371179</td>\n",
       "      <td>0.093126</td>\n",
       "    </tr>\n",
       "    <tr>\n",
       "      <th>2</th>\n",
       "      <td>minimum_nights_avg_ntm</td>\n",
       "      <td>2.068304e+07</td>\n",
       "      <td>0.311390</td>\n",
       "      <td>0.078126</td>\n",
       "    </tr>\n",
       "    <tr>\n",
       "      <th>3</th>\n",
       "      <td>longitude</td>\n",
       "      <td>1.985521e+07</td>\n",
       "      <td>0.298927</td>\n",
       "      <td>0.074999</td>\n",
       "    </tr>\n",
       "    <tr>\n",
       "      <th>4</th>\n",
       "      <td>neighbourhood_cleansed_Centrum-Oost</td>\n",
       "      <td>1.783452e+07</td>\n",
       "      <td>0.268505</td>\n",
       "      <td>0.067366</td>\n",
       "    </tr>\n",
       "    <tr>\n",
       "      <th>5</th>\n",
       "      <td>accommodates</td>\n",
       "      <td>1.589556e+07</td>\n",
       "      <td>0.239313</td>\n",
       "      <td>0.060042</td>\n",
       "    </tr>\n",
       "    <tr>\n",
       "      <th>6</th>\n",
       "      <td>latitude</td>\n",
       "      <td>9.647991e+06</td>\n",
       "      <td>0.145254</td>\n",
       "      <td>0.036443</td>\n",
       "    </tr>\n",
       "    <tr>\n",
       "      <th>7</th>\n",
       "      <td>bedrooms</td>\n",
       "      <td>9.394322e+06</td>\n",
       "      <td>0.141435</td>\n",
       "      <td>0.035485</td>\n",
       "    </tr>\n",
       "    <tr>\n",
       "      <th>8</th>\n",
       "      <td>Unnamed: 0.1</td>\n",
       "      <td>8.537060e+06</td>\n",
       "      <td>0.128528</td>\n",
       "      <td>0.032247</td>\n",
       "    </tr>\n",
       "    <tr>\n",
       "      <th>9</th>\n",
       "      <td>availability_30</td>\n",
       "      <td>6.658081e+06</td>\n",
       "      <td>0.100240</td>\n",
       "      <td>0.025149</td>\n",
       "    </tr>\n",
       "    <tr>\n",
       "      <th>10</th>\n",
       "      <td>Unnamed: 0</td>\n",
       "      <td>6.655080e+06</td>\n",
       "      <td>0.100195</td>\n",
       "      <td>0.025138</td>\n",
       "    </tr>\n",
       "    <tr>\n",
       "      <th>11</th>\n",
       "      <td>availability_365</td>\n",
       "      <td>4.990756e+06</td>\n",
       "      <td>0.075138</td>\n",
       "      <td>0.018851</td>\n",
       "    </tr>\n",
       "    <tr>\n",
       "      <th>12</th>\n",
       "      <td>beds</td>\n",
       "      <td>4.956084e+06</td>\n",
       "      <td>0.074616</td>\n",
       "      <td>0.018721</td>\n",
       "    </tr>\n",
       "    <tr>\n",
       "      <th>13</th>\n",
       "      <td>availability_90</td>\n",
       "      <td>4.761958e+06</td>\n",
       "      <td>0.071693</td>\n",
       "      <td>0.017987</td>\n",
       "    </tr>\n",
       "    <tr>\n",
       "      <th>14</th>\n",
       "      <td>reviews_per_month</td>\n",
       "      <td>4.140386e+06</td>\n",
       "      <td>0.062335</td>\n",
       "      <td>0.015639</td>\n",
       "    </tr>\n",
       "    <tr>\n",
       "      <th>15</th>\n",
       "      <td>calculated_host_listings_count_private_rooms</td>\n",
       "      <td>3.131934e+06</td>\n",
       "      <td>0.047152</td>\n",
       "      <td>0.011830</td>\n",
       "    </tr>\n",
       "    <tr>\n",
       "      <th>16</th>\n",
       "      <td>amenities</td>\n",
       "      <td>2.710900e+06</td>\n",
       "      <td>0.040814</td>\n",
       "      <td>0.010240</td>\n",
       "    </tr>\n",
       "    <tr>\n",
       "      <th>17</th>\n",
       "      <td>maximum_minimum_nights</td>\n",
       "      <td>2.620337e+06</td>\n",
       "      <td>0.039450</td>\n",
       "      <td>0.009898</td>\n",
       "    </tr>\n",
       "    <tr>\n",
       "      <th>18</th>\n",
       "      <td>host_verifications</td>\n",
       "      <td>2.031796e+06</td>\n",
       "      <td>0.030589</td>\n",
       "      <td>0.007675</td>\n",
       "    </tr>\n",
       "    <tr>\n",
       "      <th>19</th>\n",
       "      <td>room_type_Private room</td>\n",
       "      <td>1.919258e+06</td>\n",
       "      <td>0.028895</td>\n",
       "      <td>0.007250</td>\n",
       "    </tr>\n",
       "  </tbody>\n",
       "</table>\n",
       "</div>"
      ],
      "text/plain": [
       "                                        variable  relative_importance  \\\n",
       "0                      host_total_listings_count         6.642161e+07   \n",
       "1                           host_acceptance_rate         2.465431e+07   \n",
       "2                         minimum_nights_avg_ntm         2.068304e+07   \n",
       "3                                      longitude         1.985521e+07   \n",
       "4            neighbourhood_cleansed_Centrum-Oost         1.783452e+07   \n",
       "5                                   accommodates         1.589556e+07   \n",
       "6                                       latitude         9.647991e+06   \n",
       "7                                       bedrooms         9.394322e+06   \n",
       "8                                   Unnamed: 0.1         8.537060e+06   \n",
       "9                                availability_30         6.658081e+06   \n",
       "10                                    Unnamed: 0         6.655080e+06   \n",
       "11                              availability_365         4.990756e+06   \n",
       "12                                          beds         4.956084e+06   \n",
       "13                               availability_90         4.761958e+06   \n",
       "14                             reviews_per_month         4.140386e+06   \n",
       "15  calculated_host_listings_count_private_rooms         3.131934e+06   \n",
       "16                                     amenities         2.710900e+06   \n",
       "17                        maximum_minimum_nights         2.620337e+06   \n",
       "18                            host_verifications         2.031796e+06   \n",
       "19                        room_type_Private room         1.919258e+06   \n",
       "\n",
       "    scaled_importance  percentage  \n",
       "0            1.000000    0.250893  \n",
       "1            0.371179    0.093126  \n",
       "2            0.311390    0.078126  \n",
       "3            0.298927    0.074999  \n",
       "4            0.268505    0.067366  \n",
       "5            0.239313    0.060042  \n",
       "6            0.145254    0.036443  \n",
       "7            0.141435    0.035485  \n",
       "8            0.128528    0.032247  \n",
       "9            0.100240    0.025149  \n",
       "10           0.100195    0.025138  \n",
       "11           0.075138    0.018851  \n",
       "12           0.074616    0.018721  \n",
       "13           0.071693    0.017987  \n",
       "14           0.062335    0.015639  \n",
       "15           0.047152    0.011830  \n",
       "16           0.040814    0.010240  \n",
       "17           0.039450    0.009898  \n",
       "18           0.030589    0.007675  \n",
       "19           0.028895    0.007250  "
      ]
     },
     "metadata": {},
     "output_type": "display_data"
    },
    {
     "name": "stdout",
     "output_type": "stream",
     "text": [
      "\n",
      "See the whole table with table.as_data_frame()\n"
     ]
    },
    {
     "data": {
      "text/plain": []
     },
     "execution_count": 9,
     "metadata": {},
     "output_type": "execute_result"
    }
   ],
   "source": [
    "# entrena\n",
    "\n",
    "automl.train(x=X, y=y,training_frame=h2train)"
   ]
  },
  {
   "cell_type": "code",
   "execution_count": 10,
   "metadata": {
    "colab": {
     "base_uri": "https://localhost:8080/",
     "height": 122
    },
    "id": "X4gcNRHE-oiw",
    "outputId": "f7686d09-60b9-4eb3-a5bd-4dbd4ec8c1a7"
   },
   "outputs": [
    {
     "name": "stdout",
     "output_type": "stream",
     "text": [
      "[INFO] Leader board:\n"
     ]
    },
    {
     "data": {
      "text/html": [
       "<table>\n",
       "<thead>\n",
       "<tr><th>model_id                                        </th><th style=\"text-align: right;\">   rmse</th><th style=\"text-align: right;\">    mse</th><th style=\"text-align: right;\">    mae</th><th style=\"text-align: right;\">     rmsle</th><th style=\"text-align: right;\">  mean_residual_deviance</th></tr>\n",
       "</thead>\n",
       "<tbody>\n",
       "<tr><td>XGBoost_grid_1_AutoML_1_20220506_170744_model_2 </td><td style=\"text-align: right;\">112.656</td><td style=\"text-align: right;\">12691.4</td><td style=\"text-align: right;\">54.6813</td><td style=\"text-align: right;\">  0.423722</td><td style=\"text-align: right;\">                 12691.4</td></tr>\n",
       "<tr><td>GBM_5_AutoML_1_20220506_170744                  </td><td style=\"text-align: right;\">116.117</td><td style=\"text-align: right;\">13483.1</td><td style=\"text-align: right;\">51.8962</td><td style=\"text-align: right;\">  0.413187</td><td style=\"text-align: right;\">                 13483.1</td></tr>\n",
       "<tr><td>XGBoost_grid_1_AutoML_1_20220506_170744_model_5 </td><td style=\"text-align: right;\">121.096</td><td style=\"text-align: right;\">14664.3</td><td style=\"text-align: right;\">54.9132</td><td style=\"text-align: right;\">  0.419187</td><td style=\"text-align: right;\">                 14664.3</td></tr>\n",
       "<tr><td>XGBoost_3_AutoML_1_20220506_170744              </td><td style=\"text-align: right;\">123.943</td><td style=\"text-align: right;\">15361.9</td><td style=\"text-align: right;\">56.0178</td><td style=\"text-align: right;\">nan       </td><td style=\"text-align: right;\">                 15361.9</td></tr>\n",
       "<tr><td>GBM_2_AutoML_1_20220506_170744                  </td><td style=\"text-align: right;\">124.729</td><td style=\"text-align: right;\">15557.3</td><td style=\"text-align: right;\">53.5792</td><td style=\"text-align: right;\">nan       </td><td style=\"text-align: right;\">                 15557.3</td></tr>\n",
       "<tr><td>DRF_1_AutoML_1_20220506_170744                  </td><td style=\"text-align: right;\">125.103</td><td style=\"text-align: right;\">15650.8</td><td style=\"text-align: right;\">53.3384</td><td style=\"text-align: right;\">  0.417304</td><td style=\"text-align: right;\">                 15650.8</td></tr>\n",
       "<tr><td>XGBoost_grid_1_AutoML_1_20220506_170744_model_11</td><td style=\"text-align: right;\">125.17 </td><td style=\"text-align: right;\">15667.4</td><td style=\"text-align: right;\">57.8554</td><td style=\"text-align: right;\">nan       </td><td style=\"text-align: right;\">                 15667.4</td></tr>\n",
       "<tr><td>XGBoost_grid_1_AutoML_1_20220506_170744_model_10</td><td style=\"text-align: right;\">125.249</td><td style=\"text-align: right;\">15687.3</td><td style=\"text-align: right;\">59.4541</td><td style=\"text-align: right;\">nan       </td><td style=\"text-align: right;\">                 15687.3</td></tr>\n",
       "<tr><td>XGBoost_2_AutoML_1_20220506_170744              </td><td style=\"text-align: right;\">125.316</td><td style=\"text-align: right;\">15704  </td><td style=\"text-align: right;\">60.3371</td><td style=\"text-align: right;\">nan       </td><td style=\"text-align: right;\">                 15704  </td></tr>\n",
       "<tr><td>XGBoost_grid_1_AutoML_1_20220506_170744_model_3 </td><td style=\"text-align: right;\">125.705</td><td style=\"text-align: right;\">15801.7</td><td style=\"text-align: right;\">58.8438</td><td style=\"text-align: right;\">nan       </td><td style=\"text-align: right;\">                 15801.7</td></tr>\n",
       "</tbody>\n",
       "</table>"
      ]
     },
     "metadata": {},
     "output_type": "display_data"
    },
    {
     "data": {
      "text/plain": []
     },
     "execution_count": 10,
     "metadata": {},
     "output_type": "execute_result"
    }
   ],
   "source": [
    "print('[INFO] Leader board:')\n",
    "\n",
    "leader_board=automl.leaderboard\n",
    "\n",
    "leader_board.head()"
   ]
  },
  {
   "cell_type": "code",
   "execution_count": 51,
   "metadata": {
    "colab": {
     "base_uri": "https://localhost:8080/"
    },
    "id": "fywdavPdAsG6",
    "outputId": "8484e4db-3f70-4677-e034-4e9eb51c756d"
   },
   "outputs": [
    {
     "name": "stdout",
     "output_type": "stream",
     "text": [
      "Parse progress: |████████████████████████████████████████████████████████████████| (done) 100%\n"
     ]
    }
   ],
   "source": [
    "test=pd.read_csv(\"../data/outcomes_models/test_mod_limp2.csv\",encoding=\"unicode_escape\")\n",
    "\n",
    "h2test=h2o.H2OFrame(test)"
   ]
  },
  {
   "cell_type": "code",
   "execution_count": 52,
   "metadata": {
    "colab": {
     "base_uri": "https://localhost:8080/"
    },
    "id": "z-W5Cp_NBIEz",
    "outputId": "0198c9fb-7286-4106-b55f-6c9639852308"
   },
   "outputs": [
    {
     "name": "stdout",
     "output_type": "stream",
     "text": [
      "xgboost prediction progress: |███████████████████████████████████████████████████| (done) 100%\n"
     ]
    }
   ],
   "source": [
    "y_pred=automl.leader.predict(h2test)\n",
    "\n",
    "submission=h2o.as_list(y_pred)"
   ]
  },
  {
   "cell_type": "code",
   "execution_count": 53,
   "metadata": {
    "colab": {
     "base_uri": "https://localhost:8080/",
     "height": 423
    },
    "id": "SiYqYMRQBg-6",
    "outputId": "c0546c88-fe4e-447f-f22a-2820c9224db6"
   },
   "outputs": [
    {
     "data": {
      "text/html": [
       "<div>\n",
       "<style scoped>\n",
       "    .dataframe tbody tr th:only-of-type {\n",
       "        vertical-align: middle;\n",
       "    }\n",
       "\n",
       "    .dataframe tbody tr th {\n",
       "        vertical-align: top;\n",
       "    }\n",
       "\n",
       "    .dataframe thead th {\n",
       "        text-align: right;\n",
       "    }\n",
       "</style>\n",
       "<table border=\"1\" class=\"dataframe\">\n",
       "  <thead>\n",
       "    <tr style=\"text-align: right;\">\n",
       "      <th></th>\n",
       "      <th>predict</th>\n",
       "    </tr>\n",
       "  </thead>\n",
       "  <tbody>\n",
       "    <tr>\n",
       "      <th>0</th>\n",
       "      <td>67.932022</td>\n",
       "    </tr>\n",
       "    <tr>\n",
       "      <th>1</th>\n",
       "      <td>107.347649</td>\n",
       "    </tr>\n",
       "    <tr>\n",
       "      <th>2</th>\n",
       "      <td>122.505951</td>\n",
       "    </tr>\n",
       "    <tr>\n",
       "      <th>3</th>\n",
       "      <td>192.608475</td>\n",
       "    </tr>\n",
       "    <tr>\n",
       "      <th>4</th>\n",
       "      <td>252.666992</td>\n",
       "    </tr>\n",
       "  </tbody>\n",
       "</table>\n",
       "</div>"
      ],
      "text/plain": [
       "      predict\n",
       "0   67.932022\n",
       "1  107.347649\n",
       "2  122.505951\n",
       "3  192.608475\n",
       "4  252.666992"
      ]
     },
     "execution_count": 53,
     "metadata": {},
     "output_type": "execute_result"
    }
   ],
   "source": [
    "submission.head()"
   ]
  },
  {
   "cell_type": "code",
   "execution_count": 54,
   "metadata": {
    "colab": {
     "base_uri": "https://localhost:8080/",
     "height": 699
    },
    "id": "dwyHIKjXB7zT",
    "outputId": "f7f1d4f2-63db-45e0-aac5-f9c8c01e2287"
   },
   "outputs": [],
   "source": [
    "test.rename(columns={\"Unnamed: 0\": \"id\"},inplace=True)"
   ]
  },
  {
   "cell_type": "code",
   "execution_count": 55,
   "metadata": {},
   "outputs": [
    {
     "data": {
      "text/plain": [
       "0          1\n",
       "1          2\n",
       "2          3\n",
       "3          4\n",
       "4          5\n",
       "        ... \n",
       "1383    1384\n",
       "1384    1385\n",
       "1385    1386\n",
       "1386    1387\n",
       "1387    1388\n",
       "Name: Unnamed: 0.1, Length: 1388, dtype: int64"
      ]
     },
     "execution_count": 55,
     "metadata": {},
     "output_type": "execute_result"
    }
   ],
   "source": [
    "test[\"Unnamed: 0.1\"]"
   ]
  },
  {
   "cell_type": "code",
   "execution_count": 56,
   "metadata": {},
   "outputs": [],
   "source": [
    "test=test.drop([\"Unnamed: 0.1\"],axis=1)\n",
    "  \n",
    "test[\"price\"]=submission"
   ]
  },
  {
   "cell_type": "code",
   "execution_count": 58,
   "metadata": {
    "id": "ViBR1qooCYy4"
   },
   "outputs": [],
   "source": [
    "sample_final_h2o=test[[\"price\",\"id\"]]"
   ]
  },
  {
   "cell_type": "code",
   "execution_count": 59,
   "metadata": {
    "colab": {
     "base_uri": "https://localhost:8080/"
    },
    "id": "4VdeJL3NDCxk",
    "outputId": "bd9099d1-4a39-49eb-d21f-1283fc2f1574"
   },
   "outputs": [
    {
     "name": "stderr",
     "output_type": "stream",
     "text": [
      "/var/folders/tr/7ry1klqj22sglvfj6nq3g5kw0000gn/T/ipykernel_64395/1893463908.py:1: SettingWithCopyWarning: \n",
      "A value is trying to be set on a copy of a slice from a DataFrame.\n",
      "Try using .loc[row_indexer,col_indexer] = value instead\n",
      "\n",
      "See the caveats in the documentation: https://pandas.pydata.org/pandas-docs/stable/user_guide/indexing.html#returning-a-view-versus-a-copy\n",
      "  sample_final_h2o[\"id\"]=test[\"id\"]\n"
     ]
    }
   ],
   "source": [
    "\n",
    "\n",
    "sample_final_h2o[\"id\"]=test[\"id\"]"
   ]
  },
  {
   "cell_type": "code",
   "execution_count": 61,
   "metadata": {
    "colab": {
     "base_uri": "https://localhost:8080/",
     "height": 423
    },
    "id": "ow_gKwnZDNrt",
    "outputId": "2f8c7686-88c9-4195-dc3d-7d1860cba9d4"
   },
   "outputs": [
    {
     "data": {
      "text/html": [
       "<div>\n",
       "<style scoped>\n",
       "    .dataframe tbody tr th:only-of-type {\n",
       "        vertical-align: middle;\n",
       "    }\n",
       "\n",
       "    .dataframe tbody tr th {\n",
       "        vertical-align: top;\n",
       "    }\n",
       "\n",
       "    .dataframe thead th {\n",
       "        text-align: right;\n",
       "    }\n",
       "</style>\n",
       "<table border=\"1\" class=\"dataframe\">\n",
       "  <thead>\n",
       "    <tr style=\"text-align: right;\">\n",
       "      <th></th>\n",
       "      <th>price</th>\n",
       "      <th>id</th>\n",
       "    </tr>\n",
       "  </thead>\n",
       "  <tbody>\n",
       "    <tr>\n",
       "      <th>0</th>\n",
       "      <td>67.932022</td>\n",
       "      <td>0</td>\n",
       "    </tr>\n",
       "    <tr>\n",
       "      <th>1</th>\n",
       "      <td>107.347649</td>\n",
       "      <td>1</td>\n",
       "    </tr>\n",
       "  </tbody>\n",
       "</table>\n",
       "</div>"
      ],
      "text/plain": [
       "        price  id\n",
       "0   67.932022   0\n",
       "1  107.347649   1"
      ]
     },
     "execution_count": 61,
     "metadata": {},
     "output_type": "execute_result"
    }
   ],
   "source": [
    "sample_final_h2o.head(2)"
   ]
  },
  {
   "cell_type": "code",
   "execution_count": 63,
   "metadata": {
    "colab": {
     "base_uri": "https://localhost:8080/",
     "height": 35
    },
    "id": "zKg1dOEuDmDw",
    "outputId": "f659d674-ecb8-47e7-e047-fa9782cc52c7"
   },
   "outputs": [
    {
     "data": {
      "text/plain": [
       "'/Users/danigomezlechonbarrachina/Desktop/Ironhack/Proyectos/Kaggle-Competition-Project/my-code'"
      ]
     },
     "execution_count": 63,
     "metadata": {},
     "output_type": "execute_result"
    }
   ],
   "source": [
    "%pwd"
   ]
  },
  {
   "cell_type": "code",
   "execution_count": 62,
   "metadata": {
    "id": "g-tWbCX6DRSx"
   },
   "outputs": [],
   "source": [
    "sample_final_h2o.to_csv(\"sample_final_h2o_v2.csv\", index=False)"
   ]
  },
  {
   "cell_type": "code",
   "execution_count": null,
   "metadata": {
    "colab": {
     "base_uri": "https://localhost:8080/",
     "height": 17
    },
    "id": "0fJdFT95EHVp",
    "outputId": "e436b772-8bc1-4a75-dc2a-5d8ad5acb092"
   },
   "outputs": [],
   "source": [
    "#from google.colab import files\n",
    "#files.download(\"sample_final_h2o.csv\")"
   ]
  },
  {
   "cell_type": "code",
   "execution_count": null,
   "metadata": {
    "id": "Nr-6H637ENUS"
   },
   "outputs": [],
   "source": []
  }
 ],
 "metadata": {
  "colab": {
   "name": "h2o model_row.ipynb",
   "provenance": []
  },
  "interpreter": {
   "hash": "11d123a15c6883bd5ff813cb3db76fb62d90c34801856f6f84132b77ec618999"
  },
  "kernelspec": {
   "display_name": "Python 3 (ipykernel)",
   "language": "python",
   "name": "python3"
  },
  "language_info": {
   "codemirror_mode": {
    "name": "ipython",
    "version": 3
   },
   "file_extension": ".py",
   "mimetype": "text/x-python",
   "name": "python",
   "nbconvert_exporter": "python",
   "pygments_lexer": "ipython3",
   "version": "3.9.7"
  }
 },
 "nbformat": 4,
 "nbformat_minor": 1
}
