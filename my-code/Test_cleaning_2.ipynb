{
 "cells": [
  {
   "cell_type": "code",
   "execution_count": 1,
   "id": "9cc4cc9b",
   "metadata": {},
   "outputs": [],
   "source": [
    "import pandas as pd\n",
    "import numpy as np\n",
    "\n",
    "pd.set_option('display.max_columns', None)"
   ]
  },
  {
   "cell_type": "code",
   "execution_count": 2,
   "id": "bcd1ef9f",
   "metadata": {},
   "outputs": [],
   "source": [
    "train_mod=pd.read_csv(\"../data/outcomes_models/test_limp1.csv\")"
   ]
  },
  {
   "cell_type": "code",
   "execution_count": 3,
   "id": "0f1409ce",
   "metadata": {},
   "outputs": [
    {
     "data": {
      "text/html": [
       "<div>\n",
       "<style scoped>\n",
       "    .dataframe tbody tr th:only-of-type {\n",
       "        vertical-align: middle;\n",
       "    }\n",
       "\n",
       "    .dataframe tbody tr th {\n",
       "        vertical-align: top;\n",
       "    }\n",
       "\n",
       "    .dataframe thead th {\n",
       "        text-align: right;\n",
       "    }\n",
       "</style>\n",
       "<table border=\"1\" class=\"dataframe\">\n",
       "  <thead>\n",
       "    <tr style=\"text-align: right;\">\n",
       "      <th></th>\n",
       "      <th>Unnamed: 0</th>\n",
       "      <th>host_location</th>\n",
       "      <th>host_response_time</th>\n",
       "      <th>host_response_rate</th>\n",
       "      <th>host_acceptance_rate</th>\n",
       "      <th>host_is_superhost</th>\n",
       "      <th>host_neighbourhood</th>\n",
       "      <th>host_listings_count</th>\n",
       "      <th>host_total_listings_count</th>\n",
       "      <th>host_verifications</th>\n",
       "      <th>host_has_profile_pic</th>\n",
       "      <th>host_identity_verified</th>\n",
       "      <th>neighbourhood_cleansed</th>\n",
       "      <th>latitude</th>\n",
       "      <th>longitude</th>\n",
       "      <th>property_type</th>\n",
       "      <th>room_type</th>\n",
       "      <th>accommodates</th>\n",
       "      <th>bathrooms_text</th>\n",
       "      <th>bedrooms</th>\n",
       "      <th>beds</th>\n",
       "      <th>amenities</th>\n",
       "      <th>minimum_nights</th>\n",
       "      <th>maximum_nights</th>\n",
       "      <th>minimum_minimum_nights</th>\n",
       "      <th>maximum_minimum_nights</th>\n",
       "      <th>minimum_maximum_nights</th>\n",
       "      <th>maximum_maximum_nights</th>\n",
       "      <th>minimum_nights_avg_ntm</th>\n",
       "      <th>maximum_nights_avg_ntm</th>\n",
       "      <th>has_availability</th>\n",
       "      <th>availability_30</th>\n",
       "      <th>availability_60</th>\n",
       "      <th>availability_90</th>\n",
       "      <th>availability_365</th>\n",
       "      <th>number_of_reviews</th>\n",
       "      <th>number_of_reviews_ltm</th>\n",
       "      <th>number_of_reviews_l30d</th>\n",
       "      <th>last_review</th>\n",
       "      <th>review_scores_rating</th>\n",
       "      <th>review_scores_accuracy</th>\n",
       "      <th>review_scores_cleanliness</th>\n",
       "      <th>review_scores_checkin</th>\n",
       "      <th>review_scores_communication</th>\n",
       "      <th>review_scores_location</th>\n",
       "      <th>review_scores_value</th>\n",
       "      <th>instant_bookable</th>\n",
       "      <th>calculated_host_listings_count</th>\n",
       "      <th>calculated_host_listings_count_entire_homes</th>\n",
       "      <th>calculated_host_listings_count_private_rooms</th>\n",
       "      <th>calculated_host_listings_count_shared_rooms</th>\n",
       "      <th>reviews_per_month</th>\n",
       "    </tr>\n",
       "  </thead>\n",
       "  <tbody>\n",
       "    <tr>\n",
       "      <th>0</th>\n",
       "      <td>0</td>\n",
       "      <td>Amsterdam, North Holland, Netherlands</td>\n",
       "      <td>within an hour</td>\n",
       "      <td>100</td>\n",
       "      <td>50</td>\n",
       "      <td>f</td>\n",
       "      <td>unknown</td>\n",
       "      <td>1</td>\n",
       "      <td>1</td>\n",
       "      <td>['email', 'phone', 'reviews', 'jumio', 'govern...</td>\n",
       "      <td>t</td>\n",
       "      <td>t</td>\n",
       "      <td>Oud-Oost</td>\n",
       "      <td>52.35713</td>\n",
       "      <td>4.92470</td>\n",
       "      <td>Private room in rental unit</td>\n",
       "      <td>Private room</td>\n",
       "      <td>1</td>\n",
       "      <td>1 shared bath</td>\n",
       "      <td>1.0</td>\n",
       "      <td>1.0</td>\n",
       "      <td>[\"Hangers\", \"Drying rack for clothing\", \"Freez...</td>\n",
       "      <td>2</td>\n",
       "      <td>1125</td>\n",
       "      <td>2.0</td>\n",
       "      <td>2.0</td>\n",
       "      <td>1125.0</td>\n",
       "      <td>1125.0</td>\n",
       "      <td>2.0</td>\n",
       "      <td>1125.0</td>\n",
       "      <td>t</td>\n",
       "      <td>29</td>\n",
       "      <td>59</td>\n",
       "      <td>89</td>\n",
       "      <td>89</td>\n",
       "      <td>2</td>\n",
       "      <td>2</td>\n",
       "      <td>2</td>\n",
       "      <td>2021-11-07</td>\n",
       "      <td>5.00</td>\n",
       "      <td>5.00</td>\n",
       "      <td>5.00</td>\n",
       "      <td>5.00</td>\n",
       "      <td>5.00</td>\n",
       "      <td>5.00</td>\n",
       "      <td>5.00</td>\n",
       "      <td>f</td>\n",
       "      <td>1</td>\n",
       "      <td>0</td>\n",
       "      <td>1</td>\n",
       "      <td>0</td>\n",
       "      <td>2.00</td>\n",
       "    </tr>\n",
       "    <tr>\n",
       "      <th>1</th>\n",
       "      <td>1</td>\n",
       "      <td>Netherlands</td>\n",
       "      <td>within an hour</td>\n",
       "      <td>100</td>\n",
       "      <td>100</td>\n",
       "      <td>f</td>\n",
       "      <td>unknown</td>\n",
       "      <td>0</td>\n",
       "      <td>0</td>\n",
       "      <td>['email', 'phone']</td>\n",
       "      <td>t</td>\n",
       "      <td>t</td>\n",
       "      <td>Oud-Noord</td>\n",
       "      <td>52.38810</td>\n",
       "      <td>4.91438</td>\n",
       "      <td>Shared room in hostel</td>\n",
       "      <td>Shared room</td>\n",
       "      <td>2</td>\n",
       "      <td>1 shared bath</td>\n",
       "      <td>1.0</td>\n",
       "      <td>1.0</td>\n",
       "      <td>[\"Building staff\", \"Wifi\", \"Long term stays al...</td>\n",
       "      <td>1</td>\n",
       "      <td>365</td>\n",
       "      <td>1.0</td>\n",
       "      <td>3.0</td>\n",
       "      <td>999.0</td>\n",
       "      <td>999.0</td>\n",
       "      <td>1.0</td>\n",
       "      <td>999.0</td>\n",
       "      <td>t</td>\n",
       "      <td>0</td>\n",
       "      <td>0</td>\n",
       "      <td>5</td>\n",
       "      <td>280</td>\n",
       "      <td>0</td>\n",
       "      <td>0</td>\n",
       "      <td>0</td>\n",
       "      <td>0</td>\n",
       "      <td>0.00</td>\n",
       "      <td>0.00</td>\n",
       "      <td>0.00</td>\n",
       "      <td>0.00</td>\n",
       "      <td>0.00</td>\n",
       "      <td>0.00</td>\n",
       "      <td>0.00</td>\n",
       "      <td>t</td>\n",
       "      <td>12</td>\n",
       "      <td>0</td>\n",
       "      <td>10</td>\n",
       "      <td>2</td>\n",
       "      <td>0.00</td>\n",
       "    </tr>\n",
       "    <tr>\n",
       "      <th>2</th>\n",
       "      <td>2</td>\n",
       "      <td>Amsterdam, North Holland, The Netherlands</td>\n",
       "      <td>unknown</td>\n",
       "      <td>0</td>\n",
       "      <td>0</td>\n",
       "      <td>f</td>\n",
       "      <td>Oud-West</td>\n",
       "      <td>1</td>\n",
       "      <td>1</td>\n",
       "      <td>['email', 'phone', 'reviews', 'jumio']</td>\n",
       "      <td>t</td>\n",
       "      <td>t</td>\n",
       "      <td>De Baarsjes - Oud-West</td>\n",
       "      <td>52.37370</td>\n",
       "      <td>4.86340</td>\n",
       "      <td>Entire rental unit</td>\n",
       "      <td>Entire home/apt</td>\n",
       "      <td>2</td>\n",
       "      <td>1 bath</td>\n",
       "      <td>1.0</td>\n",
       "      <td>1.0</td>\n",
       "      <td>[\"Luggage dropoff allowed\", \"Hangers\", \"Paid p...</td>\n",
       "      <td>5</td>\n",
       "      <td>1125</td>\n",
       "      <td>5.0</td>\n",
       "      <td>5.0</td>\n",
       "      <td>1125.0</td>\n",
       "      <td>1125.0</td>\n",
       "      <td>5.0</td>\n",
       "      <td>1125.0</td>\n",
       "      <td>t</td>\n",
       "      <td>0</td>\n",
       "      <td>0</td>\n",
       "      <td>0</td>\n",
       "      <td>0</td>\n",
       "      <td>10</td>\n",
       "      <td>0</td>\n",
       "      <td>0</td>\n",
       "      <td>2018-08-27</td>\n",
       "      <td>4.78</td>\n",
       "      <td>4.78</td>\n",
       "      <td>4.89</td>\n",
       "      <td>4.78</td>\n",
       "      <td>4.89</td>\n",
       "      <td>4.33</td>\n",
       "      <td>4.44</td>\n",
       "      <td>t</td>\n",
       "      <td>1</td>\n",
       "      <td>1</td>\n",
       "      <td>0</td>\n",
       "      <td>0</td>\n",
       "      <td>0.23</td>\n",
       "    </tr>\n",
       "  </tbody>\n",
       "</table>\n",
       "</div>"
      ],
      "text/plain": [
       "   Unnamed: 0                              host_location host_response_time  \\\n",
       "0           0      Amsterdam, North Holland, Netherlands     within an hour   \n",
       "1           1                                Netherlands     within an hour   \n",
       "2           2  Amsterdam, North Holland, The Netherlands            unknown   \n",
       "\n",
       "   host_response_rate  host_acceptance_rate host_is_superhost  \\\n",
       "0                 100                    50                 f   \n",
       "1                 100                   100                 f   \n",
       "2                   0                     0                 f   \n",
       "\n",
       "  host_neighbourhood  host_listings_count  host_total_listings_count  \\\n",
       "0            unknown                    1                          1   \n",
       "1            unknown                    0                          0   \n",
       "2           Oud-West                    1                          1   \n",
       "\n",
       "                                  host_verifications host_has_profile_pic  \\\n",
       "0  ['email', 'phone', 'reviews', 'jumio', 'govern...                    t   \n",
       "1                                 ['email', 'phone']                    t   \n",
       "2             ['email', 'phone', 'reviews', 'jumio']                    t   \n",
       "\n",
       "  host_identity_verified  neighbourhood_cleansed  latitude  longitude  \\\n",
       "0                      t                Oud-Oost  52.35713    4.92470   \n",
       "1                      t               Oud-Noord  52.38810    4.91438   \n",
       "2                      t  De Baarsjes - Oud-West  52.37370    4.86340   \n",
       "\n",
       "                 property_type        room_type  accommodates bathrooms_text  \\\n",
       "0  Private room in rental unit     Private room             1  1 shared bath   \n",
       "1        Shared room in hostel      Shared room             2  1 shared bath   \n",
       "2           Entire rental unit  Entire home/apt             2         1 bath   \n",
       "\n",
       "   bedrooms  beds                                          amenities  \\\n",
       "0       1.0   1.0  [\"Hangers\", \"Drying rack for clothing\", \"Freez...   \n",
       "1       1.0   1.0  [\"Building staff\", \"Wifi\", \"Long term stays al...   \n",
       "2       1.0   1.0  [\"Luggage dropoff allowed\", \"Hangers\", \"Paid p...   \n",
       "\n",
       "   minimum_nights  maximum_nights  minimum_minimum_nights  \\\n",
       "0               2            1125                     2.0   \n",
       "1               1             365                     1.0   \n",
       "2               5            1125                     5.0   \n",
       "\n",
       "   maximum_minimum_nights  minimum_maximum_nights  maximum_maximum_nights  \\\n",
       "0                     2.0                  1125.0                  1125.0   \n",
       "1                     3.0                   999.0                   999.0   \n",
       "2                     5.0                  1125.0                  1125.0   \n",
       "\n",
       "   minimum_nights_avg_ntm  maximum_nights_avg_ntm has_availability  \\\n",
       "0                     2.0                  1125.0                t   \n",
       "1                     1.0                   999.0                t   \n",
       "2                     5.0                  1125.0                t   \n",
       "\n",
       "   availability_30  availability_60  availability_90  availability_365  \\\n",
       "0               29               59               89                89   \n",
       "1                0                0                5               280   \n",
       "2                0                0                0                 0   \n",
       "\n",
       "   number_of_reviews  number_of_reviews_ltm  number_of_reviews_l30d  \\\n",
       "0                  2                      2                       2   \n",
       "1                  0                      0                       0   \n",
       "2                 10                      0                       0   \n",
       "\n",
       "  last_review  review_scores_rating  review_scores_accuracy  \\\n",
       "0  2021-11-07                  5.00                    5.00   \n",
       "1           0                  0.00                    0.00   \n",
       "2  2018-08-27                  4.78                    4.78   \n",
       "\n",
       "   review_scores_cleanliness  review_scores_checkin  \\\n",
       "0                       5.00                   5.00   \n",
       "1                       0.00                   0.00   \n",
       "2                       4.89                   4.78   \n",
       "\n",
       "   review_scores_communication  review_scores_location  review_scores_value  \\\n",
       "0                         5.00                    5.00                 5.00   \n",
       "1                         0.00                    0.00                 0.00   \n",
       "2                         4.89                    4.33                 4.44   \n",
       "\n",
       "  instant_bookable  calculated_host_listings_count  \\\n",
       "0                f                               1   \n",
       "1                t                              12   \n",
       "2                t                               1   \n",
       "\n",
       "   calculated_host_listings_count_entire_homes  \\\n",
       "0                                            0   \n",
       "1                                            0   \n",
       "2                                            1   \n",
       "\n",
       "   calculated_host_listings_count_private_rooms  \\\n",
       "0                                             1   \n",
       "1                                            10   \n",
       "2                                             0   \n",
       "\n",
       "   calculated_host_listings_count_shared_rooms  reviews_per_month  \n",
       "0                                            0               2.00  \n",
       "1                                            2               0.00  \n",
       "2                                            0               0.23  "
      ]
     },
     "execution_count": 3,
     "metadata": {},
     "output_type": "execute_result"
    }
   ],
   "source": [
    "train_mod.head(3)"
   ]
  },
  {
   "cell_type": "code",
   "execution_count": 4,
   "id": "5d4f8715",
   "metadata": {},
   "outputs": [
    {
     "name": "stderr",
     "output_type": "stream",
     "text": [
      "/var/folders/tr/7ry1klqj22sglvfj6nq3g5kw0000gn/T/ipykernel_63163/186239771.py:5: SettingWithCopyWarning: \n",
      "A value is trying to be set on a copy of a slice from a DataFrame\n",
      "\n",
      "See the caveats in the documentation: https://pandas.pydata.org/pandas-docs/stable/user_guide/indexing.html#returning-a-view-versus-a-copy\n",
      "  train_mod.host_location[j]=train_mod.host_location[j].rsplit(None, 1)[-1]\n"
     ]
    }
   ],
   "source": [
    "# Dejamos solo el país del host_location\n",
    "    \n",
    "for j in range(len(train_mod.host_location)):\n",
    "\n",
    "    train_mod.host_location[j]=train_mod.host_location[j].rsplit(None, 1)[-1]\n",
    "\n"
   ]
  },
  {
   "cell_type": "code",
   "execution_count": 5,
   "id": "3f4ade0d",
   "metadata": {},
   "outputs": [
    {
     "data": {
      "text/plain": [
       "array(['Netherlands', 'NL', 'Lithuania', 'Switzerland', 'China', 'States',\n",
       "       'NO', 'Austria', 'Germany', 'GR', 'Australia', 'Kingdom', 'PH',\n",
       "       'Italy', 'Turkey', 'unknown', 'GB', 'Caledonia', 'Mexico',\n",
       "       'Malaysia', 'Poland', 'France', 'Spain', 'DE', 'ES', 'Emirates',\n",
       "       'Brazil', 'BR', 'Colombia', 'Kong', 'Malta'], dtype=object)"
      ]
     },
     "execution_count": 5,
     "metadata": {},
     "output_type": "execute_result"
    }
   ],
   "source": [
    "train_mod.host_location.unique()"
   ]
  },
  {
   "cell_type": "code",
   "execution_count": 6,
   "id": "aabd171e",
   "metadata": {},
   "outputs": [],
   "source": [
    "train_mod.host_location.replace(\"Nederland\",\"Netherlands\")\n",
    "train_mod.replace(to_replace =\"Nederland\",value =\"Netherlands\", inplace=True)\n",
    "train_mod.replace(to_replace =\"FR\",value =\"France\", inplace=True)\n",
    "train_mod.replace(to_replace =\"nb130\",value =\"unknown\", inplace=True)\n",
    "train_mod.replace(to_replace =\"ES\",value =\"Spain\", inplace=True)\n",
    "train_mod.replace(to_replace =\"NL\",value =\"Netherlands\", inplace=True)\n",
    "train_mod.replace(to_replace =\"London\",value =\"Britain\", inplace=True)\n",
    "train_mod.replace(to_replace =\"GB\",value =\"Britain\", inplace=True)\n",
    "train_mod.replace(to_replace =\"States\",value =\"US\", inplace=True)\n",
    "train_mod.replace(to_replace =\"BR\",value =\"Britain\", inplace=True)\n",
    "train_mod.replace(to_replace =\"IT\",value =\"Italy\", inplace=True)\n",
    "train_mod.replace(to_replace =\"GR\",value =\"Germany\", inplace=True)\n",
    "train_mod.replace(to_replace =\"RS\",value =\"unknown\", inplace=True)\n",
    "train_mod.replace(to_replace =\"DE\",value =\"unknown\", inplace=True)\n",
    "train_mod.replace(to_replace =\"NO\",value =\"unknown\", inplace=True)\n",
    "train_mod.replace(to_replace =\"PL\",value =\"unknown\", inplace=True)\n",
    "train_mod.replace(to_replace =\"HR\",value =\"unknown\", inplace=True)"
   ]
  },
  {
   "cell_type": "code",
   "execution_count": 7,
   "id": "929a8865",
   "metadata": {},
   "outputs": [
    {
     "data": {
      "text/plain": [
       "array(['Netherlands', 'Lithuania', 'Switzerland', 'China', 'US',\n",
       "       'unknown', 'Austria', 'Germany', 'Australia', 'Kingdom', 'PH',\n",
       "       'Italy', 'Turkey', 'Britain', 'Caledonia', 'Mexico', 'Malaysia',\n",
       "       'Poland', 'France', 'Spain', 'Emirates', 'Brazil', 'Colombia',\n",
       "       'Kong', 'Malta'], dtype=object)"
      ]
     },
     "execution_count": 7,
     "metadata": {},
     "output_type": "execute_result"
    }
   ],
   "source": [
    "train_mod.host_location.unique()"
   ]
  },
  {
   "cell_type": "code",
   "execution_count": 8,
   "id": "6ca3d122",
   "metadata": {},
   "outputs": [],
   "source": [
    "#one hot encoding 'host_location'\n",
    "\n",
    "train_mod1=pd.get_dummies(train_mod, columns=['host_location'], drop_first=True)\n"
   ]
  },
  {
   "cell_type": "code",
   "execution_count": 9,
   "id": "5c76b937",
   "metadata": {},
   "outputs": [],
   "source": [
    "#one hot encoding 'host_response_time'\n",
    "\n",
    "train_mod1=pd.get_dummies(train_mod1, columns=['host_response_time'], drop_first=True)"
   ]
  },
  {
   "cell_type": "markdown",
   "id": "f8aa5fab",
   "metadata": {},
   "source": [
    "En este caso vamos a eliminar la columna host_neighbourhood"
   ]
  },
  {
   "cell_type": "code",
   "execution_count": 10,
   "id": "7e756d40",
   "metadata": {},
   "outputs": [],
   "source": [
    "train_mod1=train_mod1.drop(columns=\"host_neighbourhood\",axis=1)"
   ]
  },
  {
   "cell_type": "code",
   "execution_count": 11,
   "id": "cc80f8ab",
   "metadata": {},
   "outputs": [],
   "source": [
    "#one hot encoding 'neighbourhood_cleansed'\n",
    "\n",
    "train_mod1=pd.get_dummies(train_mod1, columns=['neighbourhood_cleansed'], drop_first=True)"
   ]
  },
  {
   "cell_type": "code",
   "execution_count": 12,
   "id": "400d8cfb",
   "metadata": {},
   "outputs": [
    {
     "data": {
      "text/plain": [
       "array(['Private room', 'Shared room', 'Entire home/apt', 'Hotel room'],\n",
       "      dtype=object)"
      ]
     },
     "execution_count": 12,
     "metadata": {},
     "output_type": "execute_result"
    }
   ],
   "source": [
    "train_mod1.room_type.unique()"
   ]
  },
  {
   "cell_type": "code",
   "execution_count": 13,
   "id": "bdef01cc",
   "metadata": {},
   "outputs": [],
   "source": [
    "#one hot encoding \"room_type\"\n",
    "\n",
    "train_mod1=pd.get_dummies(train_mod1, columns=['room_type'], drop_first=True)"
   ]
  },
  {
   "cell_type": "markdown",
   "id": "1dafa520",
   "metadata": {},
   "source": [
    "En este caso vamos a eliminar la columna property_type"
   ]
  },
  {
   "cell_type": "code",
   "execution_count": 14,
   "id": "4eb04053",
   "metadata": {},
   "outputs": [],
   "source": [
    "train_mod1=train_mod1.drop(columns=\"property_type\",axis=1)"
   ]
  },
  {
   "cell_type": "code",
   "execution_count": 15,
   "id": "7586f9c9",
   "metadata": {},
   "outputs": [
    {
     "data": {
      "text/plain": [
       "array(['1 shared bath', '1 bath', '1 private bath', '1.5 baths',\n",
       "       '1.5 shared baths', '2 baths', '3 baths', '0 baths', '4 baths',\n",
       "       '3.5 baths', '2.5 baths', 'Shared half-bath', '2 shared baths',\n",
       "       '3 shared baths', 'unknown', '0 shared baths', '3.5 shared baths'],\n",
       "      dtype=object)"
      ]
     },
     "execution_count": 15,
     "metadata": {},
     "output_type": "execute_result"
    }
   ],
   "source": [
    "train_mod1.bathrooms_text.unique()"
   ]
  },
  {
   "cell_type": "code",
   "execution_count": 16,
   "id": "f9720bcc",
   "metadata": {},
   "outputs": [],
   "source": [
    "#one hot encoding \"bathrooms_text\"\n",
    "\n",
    "train_mod1=pd.get_dummies(train_mod1, columns=['bathrooms_text'], drop_first=True)"
   ]
  },
  {
   "cell_type": "code",
   "execution_count": 17,
   "id": "f4a2984c",
   "metadata": {},
   "outputs": [],
   "source": [
    "#one hot encoding \"host_identity_verified\"\n",
    "\n",
    "train_mod1=pd.get_dummies(train_mod1, columns=['host_identity_verified'], drop_first=True)"
   ]
  },
  {
   "cell_type": "code",
   "execution_count": 18,
   "id": "71f2b4ac",
   "metadata": {},
   "outputs": [],
   "source": [
    "#one hot encoding \"host_has_profile_pic\"\n",
    "\n",
    "train_mod1=pd.get_dummies(train_mod1, columns=['host_has_profile_pic'], drop_first=True)"
   ]
  },
  {
   "cell_type": "code",
   "execution_count": 19,
   "id": "3d38ce6a",
   "metadata": {},
   "outputs": [],
   "source": [
    "#one hot encoding \"has_availability\"\n",
    "\n",
    "train_mod1=pd.get_dummies(train_mod1, columns=['has_availability'], drop_first=True)"
   ]
  },
  {
   "cell_type": "code",
   "execution_count": 20,
   "id": "eb0d91b1",
   "metadata": {},
   "outputs": [],
   "source": [
    "#one hot encoding \"instant_bookable\"\n",
    "\n",
    "train_mod1=pd.get_dummies(train_mod1, columns=['instant_bookable'], drop_first=True)"
   ]
  },
  {
   "cell_type": "code",
   "execution_count": 21,
   "id": "f06718d8",
   "metadata": {},
   "outputs": [],
   "source": [
    "#one hot encoding \"host_is_superhost\"\n",
    "\n",
    "train_mod1=pd.get_dummies(train_mod1, columns=['host_is_superhost'], drop_first=True)"
   ]
  },
  {
   "cell_type": "markdown",
   "id": "771f362a",
   "metadata": {},
   "source": [
    "## Columnas anidadas"
   ]
  },
  {
   "cell_type": "markdown",
   "id": "e11085e5",
   "metadata": {},
   "source": [
    "Para esta limpieza vamos a simplemente contar el número de ammenities/verifications que tiene cada una"
   ]
  },
  {
   "cell_type": "code",
   "execution_count": 22,
   "id": "0ae923df",
   "metadata": {},
   "outputs": [],
   "source": [
    "trial=train_mod1.host_verifications[1].split()"
   ]
  },
  {
   "cell_type": "code",
   "execution_count": 23,
   "id": "7c80d1fa",
   "metadata": {},
   "outputs": [
    {
     "name": "stderr",
     "output_type": "stream",
     "text": [
      "/var/folders/tr/7ry1klqj22sglvfj6nq3g5kw0000gn/T/ipykernel_63163/2495932541.py:3: SettingWithCopyWarning: \n",
      "A value is trying to be set on a copy of a slice from a DataFrame\n",
      "\n",
      "See the caveats in the documentation: https://pandas.pydata.org/pandas-docs/stable/user_guide/indexing.html#returning-a-view-versus-a-copy\n",
      "  train_mod1.host_verifications[j]=len(train_mod1.host_verifications[j].split())\n"
     ]
    }
   ],
   "source": [
    "for j in range(len(train_mod1.host_verifications)):\n",
    "\n",
    "    train_mod1.host_verifications[j]=len(train_mod1.host_verifications[j].split())\n"
   ]
  },
  {
   "cell_type": "code",
   "execution_count": 24,
   "id": "ba0e6939",
   "metadata": {},
   "outputs": [
    {
     "name": "stderr",
     "output_type": "stream",
     "text": [
      "/var/folders/tr/7ry1klqj22sglvfj6nq3g5kw0000gn/T/ipykernel_63163/764406923.py:3: SettingWithCopyWarning: \n",
      "A value is trying to be set on a copy of a slice from a DataFrame\n",
      "\n",
      "See the caveats in the documentation: https://pandas.pydata.org/pandas-docs/stable/user_guide/indexing.html#returning-a-view-versus-a-copy\n",
      "  train_mod1.amenities[j]=len(train_mod1.amenities[j].split())\n"
     ]
    }
   ],
   "source": [
    "for j in range(len(train_mod1.amenities)):\n",
    "\n",
    "    train_mod1.amenities[j]=len(train_mod1.amenities[j].split())\n",
    "\n"
   ]
  },
  {
   "cell_type": "code",
   "execution_count": 25,
   "id": "add7ed9d",
   "metadata": {},
   "outputs": [],
   "source": [
    "train_mod1=train_mod1.drop(columns=\"last_review\",axis=1)"
   ]
  },
  {
   "cell_type": "markdown",
   "id": "a059213d",
   "metadata": {},
   "source": [
    "## Exportamos el csv despues de la limpieza 2"
   ]
  },
  {
   "cell_type": "code",
   "execution_count": 26,
   "id": "6b5e6678",
   "metadata": {},
   "outputs": [],
   "source": [
    "test_mod_limp2=train_mod1\n",
    "test_mod_limp2.to_csv(\"../data/outcomes_models/test_mod_limp2.csv\")"
   ]
  },
  {
   "cell_type": "code",
   "execution_count": null,
   "id": "d727a0ed",
   "metadata": {},
   "outputs": [],
   "source": []
  }
 ],
 "metadata": {
  "kernelspec": {
   "display_name": "Ironhack",
   "language": "python",
   "name": "ironhack"
  },
  "language_info": {
   "codemirror_mode": {
    "name": "ipython",
    "version": 3
   },
   "file_extension": ".py",
   "mimetype": "text/x-python",
   "name": "python",
   "nbconvert_exporter": "python",
   "pygments_lexer": "ipython3",
   "version": "3.9.7"
  }
 },
 "nbformat": 4,
 "nbformat_minor": 5
}
