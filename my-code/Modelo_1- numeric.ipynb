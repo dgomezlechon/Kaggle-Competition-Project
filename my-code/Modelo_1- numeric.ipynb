{
 "cells": [
  {
   "cell_type": "code",
   "execution_count": 1,
   "id": "9c147805",
   "metadata": {},
   "outputs": [],
   "source": [
    "#!pip install xgboost\n",
    "#!pip install catboost\n",
    "#!pip install lightgbm"
   ]
  },
  {
   "cell_type": "code",
   "execution_count": 2,
   "id": "d5600578",
   "metadata": {},
   "outputs": [],
   "source": [
    "import pandas as pd\n",
    "import numpy as np\n",
    "\n",
    "from sklearn.model_selection import train_test_split as tts\n",
    "\n",
    "train_csv=pd.read_csv(\"../data/outcomes_models/train_mod_numeric.csv\")"
   ]
  },
  {
   "cell_type": "code",
   "execution_count": 3,
   "id": "e56c21be",
   "metadata": {},
   "outputs": [],
   "source": [
    "from sklearn.ensemble import GradientBoostingRegressor as GBR\n",
    "\n",
    "from xgboost import XGBRegressor as XGBR\n",
    "\n",
    "from sklearn.ensemble import RandomForestRegressor as RFR  \n",
    "\n",
    "from catboost import CatBoostRegressor as CTR\n",
    "\n",
    "rfr=RFR() #random forest\n",
    "gbr=GBR()\n",
    "xgbr=XGBR()\n",
    "ctr=CTR()"
   ]
  },
  {
   "cell_type": "code",
   "execution_count": 4,
   "id": "e7831e95",
   "metadata": {},
   "outputs": [],
   "source": [
    "X=train_csv.drop(['price'], axis=1)   # separacion X, y\n",
    "\n",
    "y=train_csv.price  "
   ]
  },
  {
   "cell_type": "code",
   "execution_count": 5,
   "id": "f28088c4",
   "metadata": {},
   "outputs": [],
   "source": [
    "# Vamos a separar train_csv en 80% datos para train y 20% datos para testear\n",
    "\n",
    "X_train, X_test, y_train, y_test=tts(X, y)"
   ]
  },
  {
   "cell_type": "code",
   "execution_count": 6,
   "id": "230c3340",
   "metadata": {},
   "outputs": [
    {
     "data": {
      "text/plain": [
       "RandomForestRegressor()"
      ]
     },
     "execution_count": 6,
     "metadata": {},
     "output_type": "execute_result"
    }
   ],
   "source": [
    "#random forest\n",
    "\n",
    "rfr.fit(X_train, y_train)"
   ]
  },
  {
   "cell_type": "code",
   "execution_count": 7,
   "id": "eae91cfa",
   "metadata": {},
   "outputs": [
    {
     "data": {
      "text/plain": [
       "GradientBoostingRegressor()"
      ]
     },
     "execution_count": 7,
     "metadata": {},
     "output_type": "execute_result"
    }
   ],
   "source": [
    "# boosting\n",
    "\n",
    "gbr.fit(X_train, y_train)"
   ]
  },
  {
   "cell_type": "code",
   "execution_count": 8,
   "id": "85600da9",
   "metadata": {},
   "outputs": [
    {
     "data": {
      "text/plain": [
       "XGBRegressor(base_score=0.5, booster='gbtree', callbacks=None,\n",
       "             colsample_bylevel=1, colsample_bynode=1, colsample_bytree=1,\n",
       "             early_stopping_rounds=None, enable_categorical=False,\n",
       "             eval_metric=None, gamma=0, gpu_id=-1, grow_policy='depthwise',\n",
       "             importance_type=None, interaction_constraints='',\n",
       "             learning_rate=0.300000012, max_bin=256, max_cat_to_onehot=4,\n",
       "             max_delta_step=0, max_depth=6, max_leaves=0, min_child_weight=1,\n",
       "             missing=nan, monotone_constraints='()', n_estimators=100, n_jobs=0,\n",
       "             num_parallel_tree=1, predictor='auto', random_state=0, reg_alpha=0,\n",
       "             reg_lambda=1, ...)"
      ]
     },
     "execution_count": 8,
     "metadata": {},
     "output_type": "execute_result"
    }
   ],
   "source": [
    "xgbr.fit(X_train, y_train)\n"
   ]
  },
  {
   "cell_type": "code",
   "execution_count": 9,
   "id": "6cdd7ac3",
   "metadata": {},
   "outputs": [
    {
     "data": {
      "text/plain": [
       "<catboost.core.CatBoostRegressor at 0x7ff1788eab50>"
      ]
     },
     "execution_count": 9,
     "metadata": {},
     "output_type": "execute_result"
    }
   ],
   "source": [
    "ctr.fit(X_train, y_train, verbose=0)"
   ]
  },
  {
   "cell_type": "markdown",
   "id": "ddbec8a8",
   "metadata": {},
   "source": [
    "## Evaluación"
   ]
  },
  {
   "cell_type": "code",
   "execution_count": 10,
   "id": "12d5b376",
   "metadata": {},
   "outputs": [],
   "source": [
    "from sklearn.metrics import mean_squared_error as mse  # error cuadratico medio"
   ]
  },
  {
   "cell_type": "code",
   "execution_count": 11,
   "id": "47dd8961",
   "metadata": {},
   "outputs": [
    {
     "data": {
      "text/plain": [
       "151.861715685932"
      ]
     },
     "execution_count": 11,
     "metadata": {},
     "output_type": "execute_result"
    }
   ],
   "source": [
    "y_pred=rfr.predict(X_test)\n",
    "mse(y_test, y_pred, squared=False)\n"
   ]
  },
  {
   "cell_type": "code",
   "execution_count": 12,
   "id": "d268c20d",
   "metadata": {},
   "outputs": [
    {
     "data": {
      "text/plain": [
       "142.75625795998926"
      ]
     },
     "execution_count": 12,
     "metadata": {},
     "output_type": "execute_result"
    }
   ],
   "source": [
    "y_pred=gbr.predict(X_test)\n",
    "\n",
    "mse(y_test, y_pred, squared=False)  # RMSE"
   ]
  },
  {
   "cell_type": "code",
   "execution_count": 13,
   "id": "9219376e",
   "metadata": {},
   "outputs": [
    {
     "data": {
      "text/plain": [
       "176.95359463698753"
      ]
     },
     "execution_count": 13,
     "metadata": {},
     "output_type": "execute_result"
    }
   ],
   "source": [
    "y_pred=xgbr.predict(X_test)\n",
    "\n",
    "mse(y_test, y_pred, squared=False)  # RMSE"
   ]
  },
  {
   "cell_type": "code",
   "execution_count": 14,
   "id": "71a661c4",
   "metadata": {},
   "outputs": [
    {
     "data": {
      "text/plain": [
       "118.0917914815961"
      ]
     },
     "execution_count": 14,
     "metadata": {},
     "output_type": "execute_result"
    }
   ],
   "source": [
    "y_pred=ctr.predict(X_test)\n",
    "\n",
    "mse(y_test, y_pred, squared=False)  # RMSE"
   ]
  },
  {
   "cell_type": "markdown",
   "id": "ba47d0e7",
   "metadata": {},
   "source": [
    "# Repetimos normalizando"
   ]
  },
  {
   "cell_type": "code",
   "execution_count": 15,
   "id": "451f3b62",
   "metadata": {},
   "outputs": [],
   "source": [
    "from sklearn.preprocessing import StandardScaler"
   ]
  },
  {
   "cell_type": "code",
   "execution_count": 16,
   "id": "9c65d7de",
   "metadata": {},
   "outputs": [],
   "source": [
    "X=train_csv.drop(['price'], axis=1)   # separacion X, y\n",
    "\n",
    "y=train_csv.price  "
   ]
  },
  {
   "cell_type": "code",
   "execution_count": 17,
   "id": "b137945a",
   "metadata": {},
   "outputs": [],
   "source": [
    "train_csv_norm=pd.DataFrame(StandardScaler().fit_transform(X),  # standardize numeric columns\n",
    "                      columns=X.columns)"
   ]
  },
  {
   "cell_type": "code",
   "execution_count": 18,
   "id": "2fe600b9",
   "metadata": {},
   "outputs": [],
   "source": [
    "X_train, X_test, y_train, y_test=tts(train_csv_norm, y)"
   ]
  },
  {
   "cell_type": "code",
   "execution_count": 19,
   "id": "764688b4",
   "metadata": {},
   "outputs": [
    {
     "data": {
      "text/plain": [
       "<catboost.core.CatBoostRegressor at 0x7ff1788eab50>"
      ]
     },
     "execution_count": 19,
     "metadata": {},
     "output_type": "execute_result"
    }
   ],
   "source": [
    "gbr.fit(X_train, y_train)\n",
    "xgbr.fit(X_train, y_train)\n",
    "ctr.fit(X_train, y_train, verbose=0)"
   ]
  },
  {
   "cell_type": "code",
   "execution_count": 20,
   "id": "cda45b9a",
   "metadata": {},
   "outputs": [
    {
     "data": {
      "text/plain": [
       "114.3902247548695"
      ]
     },
     "execution_count": 20,
     "metadata": {},
     "output_type": "execute_result"
    }
   ],
   "source": [
    "y_pred=gbr.predict(X_test)\n",
    "\n",
    "mse(y_test, y_pred, squared=False) "
   ]
  },
  {
   "cell_type": "code",
   "execution_count": 21,
   "id": "3c50eebb",
   "metadata": {},
   "outputs": [
    {
     "data": {
      "text/plain": [
       "163.70589779841094"
      ]
     },
     "execution_count": 21,
     "metadata": {},
     "output_type": "execute_result"
    }
   ],
   "source": [
    "y_pred=xgbr.predict(X_test)\n",
    "\n",
    "mse(y_test, y_pred, squared=False)"
   ]
  },
  {
   "cell_type": "code",
   "execution_count": 22,
   "id": "c70e9e1d",
   "metadata": {},
   "outputs": [
    {
     "data": {
      "text/plain": [
       "105.13285021209344"
      ]
     },
     "execution_count": 22,
     "metadata": {},
     "output_type": "execute_result"
    }
   ],
   "source": [
    "y_pred=ctr.predict(X_test)\n",
    "\n",
    "mse(y_test, y_pred, squared=False)"
   ]
  },
  {
   "cell_type": "code",
   "execution_count": 23,
   "id": "747955a0",
   "metadata": {},
   "outputs": [
    {
     "data": {
      "text/plain": [
       "array([ 58.14270425, 184.39170413, 189.60559887, ..., 280.82308585,\n",
       "       161.96269445, 146.94434348])"
      ]
     },
     "execution_count": 23,
     "metadata": {},
     "output_type": "execute_result"
    }
   ],
   "source": [
    "y_pred"
   ]
  },
  {
   "cell_type": "markdown",
   "id": "06815be2",
   "metadata": {},
   "source": [
    "# Quitamos correlaciones\n"
   ]
  },
  {
   "cell_type": "code",
   "execution_count": 24,
   "id": "b5cdb015",
   "metadata": {},
   "outputs": [],
   "source": [
    "import pylab as plt\n",
    "import seaborn as sns"
   ]
  },
  {
   "cell_type": "code",
   "execution_count": 25,
   "id": "4d3c55a9",
   "metadata": {},
   "outputs": [
    {
     "data": {
      "image/png": "[encoded data removed]",
      "text/plain": [
       "<Figure size 1080x720 with 2 Axes>"
      ]
     },
     "metadata": {
      "needs_background": "light"
     },
     "output_type": "display_data"
    }
   ],
   "source": [
    "plt.figure(figsize=(15, 10))\n",
    "\n",
    "sns.set(style='white')\n",
    "\n",
    "mask=np.triu(np.ones_like(train_csv.corr(), dtype=bool))\n",
    "\n",
    "cmap=sns.diverging_palette(0, 10, as_cmap=True)\n",
    "\n",
    "\n",
    "sns.heatmap(train_csv.corr(),\n",
    "           mask=mask,\n",
    "          cmap=cmap,\n",
    "          center=0,\n",
    "          square=True,\n",
    "          linewidths=0.5,\n",
    "          cbar_kws={'shrink': 0.5});\n"
   ]
  },
  {
   "cell_type": "code",
   "execution_count": 26,
   "id": "7cd7e77b",
   "metadata": {},
   "outputs": [],
   "source": [
    "#quitamos las filas con menos correlacion\n",
    "\n",
    "columns_corr=['minimum_nights', 'maximum_nights', 'minimum_minimum_nights',\n",
    "       'maximum_minimum_nights', 'minimum_maximum_nights',\n",
    "       'maximum_maximum_nights', 'minimum_nights_avg_ntm',\n",
    "       'maximum_nights_avg_ntm']"
   ]
  },
  {
   "cell_type": "code",
   "execution_count": 27,
   "id": "75d920eb",
   "metadata": {},
   "outputs": [],
   "source": [
    "train_csv_new=train_csv.drop(columns=columns_corr,axis=1)"
   ]
  },
  {
   "cell_type": "code",
   "execution_count": 28,
   "id": "4d0c06c3",
   "metadata": {},
   "outputs": [
    {
     "data": {
      "image/png": "[encoded data removed]",
      "text/plain": [
       "<Figure size 1080x720 with 2 Axes>"
      ]
     },
     "metadata": {},
     "output_type": "display_data"
    }
   ],
   "source": [
    "plt.figure(figsize=(15, 10))\n",
    "\n",
    "sns.set(style='white')\n",
    "\n",
    "mask=np.triu(np.ones_like(train_csv_new.corr(), dtype=bool))\n",
    "\n",
    "cmap=sns.diverging_palette(0, 10, as_cmap=True)\n",
    "\n",
    "\n",
    "sns.heatmap(train_csv_new.corr(),\n",
    "           mask=mask,\n",
    "          cmap=cmap,\n",
    "          center=0,\n",
    "          square=True,\n",
    "          linewidths=0.5,\n",
    "          cbar_kws={'shrink': 0.5});"
   ]
  },
  {
   "cell_type": "markdown",
   "id": "d8cfe780",
   "metadata": {},
   "source": [
    "# Volvemos a probar"
   ]
  },
  {
   "cell_type": "code",
   "execution_count": 29,
   "id": "9610a71c",
   "metadata": {},
   "outputs": [],
   "source": [
    "X=train_csv_new.drop(['price'], axis=1)   # separacion X, y\n",
    "\n",
    "y=train_csv_new.price  "
   ]
  },
  {
   "cell_type": "code",
   "execution_count": 30,
   "id": "a55d8970",
   "metadata": {},
   "outputs": [],
   "source": [
    "X_train, X_test, y_train, y_test=tts(X, y)"
   ]
  },
  {
   "cell_type": "code",
   "execution_count": 31,
   "id": "9bf5460b",
   "metadata": {},
   "outputs": [
    {
     "data": {
      "text/plain": [
       "GradientBoostingRegressor()"
      ]
     },
     "execution_count": 31,
     "metadata": {},
     "output_type": "execute_result"
    }
   ],
   "source": [
    "gbr.fit(X_train, y_train)"
   ]
  },
  {
   "cell_type": "code",
   "execution_count": 32,
   "id": "6ad57073",
   "metadata": {},
   "outputs": [
    {
     "data": {
      "text/plain": [
       "XGBRegressor(base_score=0.5, booster='gbtree', callbacks=None,\n",
       "             colsample_bylevel=1, colsample_bynode=1, colsample_bytree=1,\n",
       "             early_stopping_rounds=None, enable_categorical=False,\n",
       "             eval_metric=None, gamma=0, gpu_id=-1, grow_policy='depthwise',\n",
       "             importance_type=None, interaction_constraints='',\n",
       "             learning_rate=0.300000012, max_bin=256, max_cat_to_onehot=4,\n",
       "             max_delta_step=0, max_depth=6, max_leaves=0, min_child_weight=1,\n",
       "             missing=nan, monotone_constraints='()', n_estimators=100, n_jobs=0,\n",
       "             num_parallel_tree=1, predictor='auto', random_state=0, reg_alpha=0,\n",
       "             reg_lambda=1, ...)"
      ]
     },
     "execution_count": 32,
     "metadata": {},
     "output_type": "execute_result"
    }
   ],
   "source": [
    "xgbr.fit(X_train, y_train)"
   ]
  },
  {
   "cell_type": "code",
   "execution_count": 33,
   "id": "229d3c36",
   "metadata": {},
   "outputs": [
    {
     "data": {
      "text/plain": [
       "<catboost.core.CatBoostRegressor at 0x7ff1788eab50>"
      ]
     },
     "execution_count": 33,
     "metadata": {},
     "output_type": "execute_result"
    }
   ],
   "source": [
    "ctr.fit(X_train, y_train, verbose=0)"
   ]
  },
  {
   "cell_type": "code",
   "execution_count": 34,
   "id": "8aa827cc",
   "metadata": {},
   "outputs": [
    {
     "data": {
      "text/plain": [
       "139.72502116019052"
      ]
     },
     "execution_count": 34,
     "metadata": {},
     "output_type": "execute_result"
    }
   ],
   "source": [
    "y_pred=gbr.predict(X_test)\n",
    "\n",
    "mse(y_test, y_pred, squared=False) "
   ]
  },
  {
   "cell_type": "code",
   "execution_count": 35,
   "id": "50968004",
   "metadata": {},
   "outputs": [
    {
     "data": {
      "text/plain": [
       "123.87455929755164"
      ]
     },
     "execution_count": 35,
     "metadata": {},
     "output_type": "execute_result"
    }
   ],
   "source": [
    "y_pred=xgbr.predict(X_test)\n",
    "\n",
    "mse(y_test, y_pred, squared=False)"
   ]
  },
  {
   "cell_type": "code",
   "execution_count": 36,
   "id": "123f535b",
   "metadata": {},
   "outputs": [
    {
     "data": {
      "text/plain": [
       "104.72406218548386"
      ]
     },
     "execution_count": 36,
     "metadata": {},
     "output_type": "execute_result"
    }
   ],
   "source": [
    "y_pred=ctr.predict(X_test)\n",
    "\n",
    "mse(y_test, y_pred, squared=False)"
   ]
  },
  {
   "cell_type": "markdown",
   "id": "a3db94ab",
   "metadata": {},
   "source": [
    "## Elegimos modelo"
   ]
  },
  {
   "cell_type": "markdown",
   "id": "9427041a",
   "metadata": {},
   "source": [
    "En este punto el modelo que mejor ha funcionado es de los modelos iniciales el ctr con un RMSE de 79"
   ]
  },
  {
   "cell_type": "markdown",
   "id": "a3a92893",
   "metadata": {},
   "source": [
    "## Entrenamos modelo con todos los datos"
   ]
  },
  {
   "cell_type": "code",
   "execution_count": 37,
   "id": "658c407f",
   "metadata": {},
   "outputs": [],
   "source": [
    "X=train_csv.drop(['price'], axis=1)   # separacion X, y\n",
    "\n",
    "y=train_csv.price  "
   ]
  },
  {
   "cell_type": "code",
   "execution_count": 38,
   "id": "158c47b3",
   "metadata": {},
   "outputs": [
    {
     "data": {
      "text/plain": [
       "GradientBoostingRegressor()"
      ]
     },
     "execution_count": 38,
     "metadata": {},
     "output_type": "execute_result"
    }
   ],
   "source": [
    "gbr.fit(X, y)"
   ]
  },
  {
   "cell_type": "code",
   "execution_count": 39,
   "id": "a8b44c26",
   "metadata": {},
   "outputs": [
    {
     "data": {
      "text/plain": [
       "XGBRegressor(base_score=0.5, booster='gbtree', callbacks=None,\n",
       "             colsample_bylevel=1, colsample_bynode=1, colsample_bytree=1,\n",
       "             early_stopping_rounds=None, enable_categorical=False,\n",
       "             eval_metric=None, gamma=0, gpu_id=-1, grow_policy='depthwise',\n",
       "             importance_type=None, interaction_constraints='',\n",
       "             learning_rate=0.300000012, max_bin=256, max_cat_to_onehot=4,\n",
       "             max_delta_step=0, max_depth=6, max_leaves=0, min_child_weight=1,\n",
       "             missing=nan, monotone_constraints='()', n_estimators=100, n_jobs=0,\n",
       "             num_parallel_tree=1, predictor='auto', random_state=0, reg_alpha=0,\n",
       "             reg_lambda=1, ...)"
      ]
     },
     "execution_count": 39,
     "metadata": {},
     "output_type": "execute_result"
    }
   ],
   "source": [
    "xgbr.fit(X, y)"
   ]
  },
  {
   "cell_type": "code",
   "execution_count": 40,
   "id": "57ebf2b6",
   "metadata": {},
   "outputs": [
    {
     "data": {
      "text/plain": [
       "<catboost.core.CatBoostRegressor at 0x7ff1788eab50>"
      ]
     },
     "execution_count": 40,
     "metadata": {},
     "output_type": "execute_result"
    }
   ],
   "source": [
    "# boosting\n",
    "\n",
    "ctr.fit(X, y, verbose=0)"
   ]
  },
  {
   "cell_type": "markdown",
   "id": "c9222dc0",
   "metadata": {},
   "source": [
    "## Importamos el test con loas datos limpios"
   ]
  },
  {
   "cell_type": "code",
   "execution_count": 41,
   "id": "cea06005",
   "metadata": {},
   "outputs": [],
   "source": [
    "test_csv1=pd.read_csv(\"../data/outcomes_models/test_mod_numeric.csv\")\n",
    "test_csv2=pd.read_csv(\"../data/outcomes_models/test_mod_numeric.csv\")\n",
    "test_csv3=pd.read_csv(\"../data/outcomes_models/test_mod_numeric.csv\")\n",
    "test_csv4=pd.read_csv(\"../data/outcomes_models/test_mod_numeric.csv\")"
   ]
  },
  {
   "cell_type": "code",
   "execution_count": 42,
   "id": "5d002342",
   "metadata": {},
   "outputs": [],
   "source": [
    "y_pred1=gbr.predict(test_csv1)\n",
    "y_pred2=xgbr.predict(test_csv2)\n",
    "y_pred3=ctr.predict(test_csv3)\n",
    "y_pred4=rfr.predict(test_csv4)"
   ]
  },
  {
   "cell_type": "code",
   "execution_count": 43,
   "id": "7d9284fe",
   "metadata": {},
   "outputs": [],
   "source": [
    "test_csv1[\"price\"]=y_pred1\n",
    "test_csv2[\"price\"]=y_pred2\n",
    "test_csv3[\"price\"]=y_pred3\n",
    "test_csv4[\"price\"]=y_pred4"
   ]
  },
  {
   "cell_type": "code",
   "execution_count": 44,
   "id": "c170813f",
   "metadata": {},
   "outputs": [],
   "source": [
    "sample_final1=test_csv1[[\"price\",\"Unnamed: 0\"]]\n",
    "sample_final2=test_csv2[[\"price\",\"Unnamed: 0\"]]\n",
    "sample_final3=test_csv3[[\"price\",\"Unnamed: 0\"]]\n",
    "sample_final4=test_csv4[[\"price\",\"Unnamed: 0\"]]"
   ]
  },
  {
   "cell_type": "code",
   "execution_count": 45,
   "id": "7cb0c163",
   "metadata": {},
   "outputs": [
    {
     "data": {
      "text/html": [
       "<div>\n",
       "<style scoped>\n",
       "    .dataframe tbody tr th:only-of-type {\n",
       "        vertical-align: middle;\n",
       "    }\n",
       "\n",
       "    .dataframe tbody tr th {\n",
       "        vertical-align: top;\n",
       "    }\n",
       "\n",
       "    .dataframe thead th {\n",
       "        text-align: right;\n",
       "    }\n",
       "</style>\n",
       "<table border=\"1\" class=\"dataframe\">\n",
       "  <thead>\n",
       "    <tr style=\"text-align: right;\">\n",
       "      <th></th>\n",
       "      <th>price</th>\n",
       "      <th>Unnamed: 0</th>\n",
       "    </tr>\n",
       "  </thead>\n",
       "  <tbody>\n",
       "    <tr>\n",
       "      <th>0</th>\n",
       "      <td>69.043401</td>\n",
       "      <td>0</td>\n",
       "    </tr>\n",
       "    <tr>\n",
       "      <th>1</th>\n",
       "      <td>101.062137</td>\n",
       "      <td>1</td>\n",
       "    </tr>\n",
       "    <tr>\n",
       "      <th>2</th>\n",
       "      <td>127.832632</td>\n",
       "      <td>2</td>\n",
       "    </tr>\n",
       "    <tr>\n",
       "      <th>3</th>\n",
       "      <td>121.849358</td>\n",
       "      <td>3</td>\n",
       "    </tr>\n",
       "    <tr>\n",
       "      <th>4</th>\n",
       "      <td>131.472608</td>\n",
       "      <td>4</td>\n",
       "    </tr>\n",
       "  </tbody>\n",
       "</table>\n",
       "</div>"
      ],
      "text/plain": [
       "        price  Unnamed: 0\n",
       "0   69.043401           0\n",
       "1  101.062137           1\n",
       "2  127.832632           2\n",
       "3  121.849358           3\n",
       "4  131.472608           4"
      ]
     },
     "execution_count": 45,
     "metadata": {},
     "output_type": "execute_result"
    }
   ],
   "source": [
    "sample_final1.head()"
   ]
  },
  {
   "cell_type": "code",
   "execution_count": 46,
   "id": "6c105397",
   "metadata": {},
   "outputs": [
    {
     "name": "stderr",
     "output_type": "stream",
     "text": [
      "/var/folders/tr/7ry1klqj22sglvfj6nq3g5kw0000gn/T/ipykernel_61315/1352245076.py:1: SettingWithCopyWarning: \n",
      "A value is trying to be set on a copy of a slice from a DataFrame\n",
      "\n",
      "See the caveats in the documentation: https://pandas.pydata.org/pandas-docs/stable/user_guide/indexing.html#returning-a-view-versus-a-copy\n",
      "  sample_final1.rename(columns={\"Unnamed: 0\": \"id\"},inplace=True)\n",
      "/var/folders/tr/7ry1klqj22sglvfj6nq3g5kw0000gn/T/ipykernel_61315/1352245076.py:2: SettingWithCopyWarning: \n",
      "A value is trying to be set on a copy of a slice from a DataFrame\n",
      "\n",
      "See the caveats in the documentation: https://pandas.pydata.org/pandas-docs/stable/user_guide/indexing.html#returning-a-view-versus-a-copy\n",
      "  sample_final2.rename(columns={\"Unnamed: 0\": \"id\"},inplace=True)\n",
      "/var/folders/tr/7ry1klqj22sglvfj6nq3g5kw0000gn/T/ipykernel_61315/1352245076.py:3: SettingWithCopyWarning: \n",
      "A value is trying to be set on a copy of a slice from a DataFrame\n",
      "\n",
      "See the caveats in the documentation: https://pandas.pydata.org/pandas-docs/stable/user_guide/indexing.html#returning-a-view-versus-a-copy\n",
      "  sample_final3.rename(columns={\"Unnamed: 0\": \"id\"},inplace=True)\n",
      "/var/folders/tr/7ry1klqj22sglvfj6nq3g5kw0000gn/T/ipykernel_61315/1352245076.py:4: SettingWithCopyWarning: \n",
      "A value is trying to be set on a copy of a slice from a DataFrame\n",
      "\n",
      "See the caveats in the documentation: https://pandas.pydata.org/pandas-docs/stable/user_guide/indexing.html#returning-a-view-versus-a-copy\n",
      "  sample_final4.rename(columns={\"Unnamed: 0\": \"id\"},inplace=True)\n"
     ]
    }
   ],
   "source": [
    "sample_final1.rename(columns={\"Unnamed: 0\": \"id\"},inplace=True)\n",
    "sample_final2.rename(columns={\"Unnamed: 0\": \"id\"},inplace=True)\n",
    "sample_final3.rename(columns={\"Unnamed: 0\": \"id\"},inplace=True)\n",
    "sample_final4.rename(columns={\"Unnamed: 0\": \"id\"},inplace=True)"
   ]
  },
  {
   "cell_type": "code",
   "execution_count": 50,
   "id": "043567ab",
   "metadata": {},
   "outputs": [],
   "source": [
    "sample_final1.to_csv(\"../data/sample_final1.csv\", index=False)\n",
    "sample_final2.to_csv(\"../data/sample_final2.csv\", index=False)\n",
    "sample_final3.to_csv(\"../data/sample_final3.csv\", index=False)\n",
    "sample_final4.to_csv(\"../data/sample_final4.csv\", index=False)"
   ]
  },
  {
   "cell_type": "code",
   "execution_count": null,
   "id": "cd8243c0",
   "metadata": {},
   "outputs": [],
   "source": []
  }
 ],
 "metadata": {
  "kernelspec": {
   "display_name": "Ironhack",
   "language": "python",
   "name": "ironhack"
  },
  "language_info": {
   "codemirror_mode": {
    "name": "ipython",
    "version": 3
   },
   "file_extension": ".py",
   "mimetype": "text/x-python",
   "name": "python",
   "nbconvert_exporter": "python",
   "pygments_lexer": "ipython3",
   "version": "3.9.7"
  }
 },
 "nbformat": 4,
 "nbformat_minor": 5
}
