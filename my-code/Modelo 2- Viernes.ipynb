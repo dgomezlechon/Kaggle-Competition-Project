{
 "cells": [
  {
   "cell_type": "code",
   "execution_count": 1,
   "id": "5de97103",
   "metadata": {},
   "outputs": [],
   "source": [
    "#!pip install xgboost\n",
    "#!pip install catboost\n",
    "#!pip install lightgbm"
   ]
  },
  {
   "cell_type": "code",
   "execution_count": 2,
   "id": "aa13b73e",
   "metadata": {},
   "outputs": [],
   "source": [
    "import pandas as pd\n",
    "import numpy as np\n",
    "\n",
    "from sklearn.model_selection import train_test_split as tts\n",
    "\n",
    "train_csv=pd.read_csv(\"../data/outcomes_models/train_mod_limp2.csv\")"
   ]
  },
  {
   "cell_type": "code",
   "execution_count": 3,
   "id": "10ab9711",
   "metadata": {},
   "outputs": [],
   "source": [
    "from sklearn.ensemble import GradientBoostingRegressor as GBR\n",
    "\n",
    "from xgboost import XGBRegressor as XGBR\n",
    "\n",
    "from sklearn.ensemble import RandomForestRegressor as RFR  \n",
    "\n",
    "from catboost import CatBoostRegressor as CTR\n",
    "\n",
    "rfr=RFR() #random forest\n",
    "gbr=GBR()\n",
    "xgbr=XGBR()\n",
    "ctr=CTR()"
   ]
  },
  {
   "cell_type": "code",
   "execution_count": 4,
   "id": "dda01927",
   "metadata": {},
   "outputs": [],
   "source": [
    "X=train_csv.drop(['price'], axis=1)   # separacion X, y\n",
    "\n",
    "y=train_csv.price  "
   ]
  },
  {
   "cell_type": "code",
   "execution_count": 5,
   "id": "fd0f1756",
   "metadata": {},
   "outputs": [],
   "source": [
    "# Vamos a separar train_csv en 80% datos para train y 20% datos para testear\n",
    "\n",
    "X_train, X_test, y_train, y_test=tts(X, y)"
   ]
  },
  {
   "cell_type": "code",
   "execution_count": 6,
   "id": "c3bbf455",
   "metadata": {},
   "outputs": [
    {
     "data": {
      "text/plain": [
       "<catboost.core.CatBoostRegressor at 0x7fe3096e2ee0>"
      ]
     },
     "execution_count": 6,
     "metadata": {},
     "output_type": "execute_result"
    }
   ],
   "source": [
    "#random forest\n",
    "\n",
    "rfr.fit(X_train, y_train)\n",
    "\n",
    "# boosting\n",
    "\n",
    "gbr.fit(X_train, y_train)\n",
    "xgbr.fit(X_train, y_train)\n",
    "ctr.fit(X_train, y_train, verbose=0)"
   ]
  },
  {
   "cell_type": "markdown",
   "id": "8fee80f7",
   "metadata": {},
   "source": [
    "## Evaluacion"
   ]
  },
  {
   "cell_type": "code",
   "execution_count": 7,
   "id": "416f6532",
   "metadata": {},
   "outputs": [],
   "source": [
    "from sklearn.metrics import mean_squared_error as mse"
   ]
  },
  {
   "cell_type": "code",
   "execution_count": 8,
   "id": "88a1bc3a",
   "metadata": {},
   "outputs": [
    {
     "data": {
      "text/plain": [
       "100.45063588457826"
      ]
     },
     "execution_count": 8,
     "metadata": {},
     "output_type": "execute_result"
    }
   ],
   "source": [
    "y_pred=rfr.predict(X_test)\n",
    "mse(y_test, y_pred, squared=False)"
   ]
  },
  {
   "cell_type": "code",
   "execution_count": 9,
   "id": "affe477b",
   "metadata": {},
   "outputs": [
    {
     "data": {
      "text/plain": [
       "112.82496139763815"
      ]
     },
     "execution_count": 9,
     "metadata": {},
     "output_type": "execute_result"
    }
   ],
   "source": [
    "y_pred=gbr.predict(X_test)\n",
    "\n",
    "mse(y_test, y_pred, squared=False)  # RMSE"
   ]
  },
  {
   "cell_type": "code",
   "execution_count": 10,
   "id": "14ae2833",
   "metadata": {},
   "outputs": [
    {
     "data": {
      "text/plain": [
       "103.78910012012264"
      ]
     },
     "execution_count": 10,
     "metadata": {},
     "output_type": "execute_result"
    }
   ],
   "source": [
    "y_pred=xgbr.predict(X_test)\n",
    "\n",
    "mse(y_test, y_pred, squared=False)  # RMSE"
   ]
  },
  {
   "cell_type": "code",
   "execution_count": 11,
   "id": "3bf5968f",
   "metadata": {},
   "outputs": [
    {
     "data": {
      "text/plain": [
       "95.79280138185405"
      ]
     },
     "execution_count": 11,
     "metadata": {},
     "output_type": "execute_result"
    }
   ],
   "source": [
    "y_pred=ctr.predict(X_test)\n",
    "\n",
    "mse(y_test, y_pred, squared=False)  # RMSE"
   ]
  },
  {
   "cell_type": "markdown",
   "id": "b3b1b36d",
   "metadata": {},
   "source": [
    "## Entrenamos modelo con todos los datos"
   ]
  },
  {
   "cell_type": "code",
   "execution_count": 12,
   "id": "a1a0ddf3",
   "metadata": {},
   "outputs": [],
   "source": [
    "X=train_csv.drop(['price'], axis=1)   # separacion X, y\n",
    "\n",
    "y=train_csv.price  "
   ]
  },
  {
   "cell_type": "code",
   "execution_count": 13,
   "id": "dbf489da",
   "metadata": {},
   "outputs": [
    {
     "data": {
      "text/plain": [
       "<catboost.core.CatBoostRegressor at 0x7fe3096e2ee0>"
      ]
     },
     "execution_count": 13,
     "metadata": {},
     "output_type": "execute_result"
    }
   ],
   "source": [
    "rfr.fit(X, y)\n",
    "gbr.fit(X, y)\n",
    "xgbr.fit(X, y)\n",
    "# boosting\n",
    "\n",
    "ctr.fit(X, y, verbose=0)"
   ]
  },
  {
   "cell_type": "markdown",
   "id": "1e0e8964",
   "metadata": {},
   "source": [
    "## Importamos el test con los datos limpios"
   ]
  },
  {
   "cell_type": "code",
   "execution_count": 14,
   "id": "aa57cbc0",
   "metadata": {},
   "outputs": [],
   "source": [
    "test_csv1=pd.read_csv(\"../data/outcomes_models/test_mod_limp2.csv\")\n",
    "test_csv2=pd.read_csv(\"../data/outcomes_models/test_mod_limp2.csv\")\n",
    "test_csv3=pd.read_csv(\"../data/outcomes_models/test_mod_limp2.csv\")\n",
    "test_csv4=pd.read_csv(\"../data/outcomes_models/test_mod_limp2.csv\")"
   ]
  },
  {
   "cell_type": "code",
   "execution_count": 30,
   "id": "e2eb5862",
   "metadata": {},
   "outputs": [
    {
     "data": {
      "text/html": [
       "<div>\n",
       "<style scoped>\n",
       "    .dataframe tbody tr th:only-of-type {\n",
       "        vertical-align: middle;\n",
       "    }\n",
       "\n",
       "    .dataframe tbody tr th {\n",
       "        vertical-align: top;\n",
       "    }\n",
       "\n",
       "    .dataframe thead th {\n",
       "        text-align: right;\n",
       "    }\n",
       "</style>\n",
       "<table border=\"1\" class=\"dataframe\">\n",
       "  <thead>\n",
       "    <tr style=\"text-align: right;\">\n",
       "      <th></th>\n",
       "      <th>Unnamed: 0.1</th>\n",
       "      <th>Unnamed: 0</th>\n",
       "      <th>host_response_rate</th>\n",
       "      <th>host_acceptance_rate</th>\n",
       "      <th>host_listings_count</th>\n",
       "      <th>host_total_listings_count</th>\n",
       "      <th>host_verifications</th>\n",
       "      <th>latitude</th>\n",
       "      <th>longitude</th>\n",
       "      <th>accommodates</th>\n",
       "      <th>...</th>\n",
       "      <th>bathrooms_text_3.5 baths</th>\n",
       "      <th>bathrooms_text_3.5 shared baths</th>\n",
       "      <th>bathrooms_text_4 baths</th>\n",
       "      <th>bathrooms_text_Shared half-bath</th>\n",
       "      <th>bathrooms_text_unknown</th>\n",
       "      <th>host_identity_verified_t</th>\n",
       "      <th>host_has_profile_pic_t</th>\n",
       "      <th>has_availability_t</th>\n",
       "      <th>instant_bookable_t</th>\n",
       "      <th>host_is_superhost_t</th>\n",
       "    </tr>\n",
       "  </thead>\n",
       "  <tbody>\n",
       "    <tr>\n",
       "      <th>0</th>\n",
       "      <td>0</td>\n",
       "      <td>0</td>\n",
       "      <td>100</td>\n",
       "      <td>50</td>\n",
       "      <td>1</td>\n",
       "      <td>1</td>\n",
       "      <td>5</td>\n",
       "      <td>52.35713</td>\n",
       "      <td>4.92470</td>\n",
       "      <td>1</td>\n",
       "      <td>...</td>\n",
       "      <td>0</td>\n",
       "      <td>0</td>\n",
       "      <td>0</td>\n",
       "      <td>0</td>\n",
       "      <td>0</td>\n",
       "      <td>1</td>\n",
       "      <td>1</td>\n",
       "      <td>1</td>\n",
       "      <td>0</td>\n",
       "      <td>0</td>\n",
       "    </tr>\n",
       "    <tr>\n",
       "      <th>1</th>\n",
       "      <td>1</td>\n",
       "      <td>1</td>\n",
       "      <td>100</td>\n",
       "      <td>100</td>\n",
       "      <td>0</td>\n",
       "      <td>0</td>\n",
       "      <td>2</td>\n",
       "      <td>52.38810</td>\n",
       "      <td>4.91438</td>\n",
       "      <td>2</td>\n",
       "      <td>...</td>\n",
       "      <td>0</td>\n",
       "      <td>0</td>\n",
       "      <td>0</td>\n",
       "      <td>0</td>\n",
       "      <td>0</td>\n",
       "      <td>1</td>\n",
       "      <td>1</td>\n",
       "      <td>1</td>\n",
       "      <td>1</td>\n",
       "      <td>0</td>\n",
       "    </tr>\n",
       "    <tr>\n",
       "      <th>2</th>\n",
       "      <td>2</td>\n",
       "      <td>2</td>\n",
       "      <td>0</td>\n",
       "      <td>0</td>\n",
       "      <td>1</td>\n",
       "      <td>1</td>\n",
       "      <td>4</td>\n",
       "      <td>52.37370</td>\n",
       "      <td>4.86340</td>\n",
       "      <td>2</td>\n",
       "      <td>...</td>\n",
       "      <td>0</td>\n",
       "      <td>0</td>\n",
       "      <td>0</td>\n",
       "      <td>0</td>\n",
       "      <td>0</td>\n",
       "      <td>1</td>\n",
       "      <td>1</td>\n",
       "      <td>1</td>\n",
       "      <td>1</td>\n",
       "      <td>0</td>\n",
       "    </tr>\n",
       "    <tr>\n",
       "      <th>3</th>\n",
       "      <td>3</td>\n",
       "      <td>3</td>\n",
       "      <td>0</td>\n",
       "      <td>0</td>\n",
       "      <td>2</td>\n",
       "      <td>2</td>\n",
       "      <td>6</td>\n",
       "      <td>52.36181</td>\n",
       "      <td>4.88783</td>\n",
       "      <td>2</td>\n",
       "      <td>...</td>\n",
       "      <td>0</td>\n",
       "      <td>0</td>\n",
       "      <td>0</td>\n",
       "      <td>0</td>\n",
       "      <td>0</td>\n",
       "      <td>1</td>\n",
       "      <td>1</td>\n",
       "      <td>1</td>\n",
       "      <td>0</td>\n",
       "      <td>0</td>\n",
       "    </tr>\n",
       "    <tr>\n",
       "      <th>4</th>\n",
       "      <td>4</td>\n",
       "      <td>4</td>\n",
       "      <td>0</td>\n",
       "      <td>0</td>\n",
       "      <td>0</td>\n",
       "      <td>0</td>\n",
       "      <td>2</td>\n",
       "      <td>52.34766</td>\n",
       "      <td>4.85982</td>\n",
       "      <td>2</td>\n",
       "      <td>...</td>\n",
       "      <td>0</td>\n",
       "      <td>0</td>\n",
       "      <td>0</td>\n",
       "      <td>0</td>\n",
       "      <td>0</td>\n",
       "      <td>0</td>\n",
       "      <td>1</td>\n",
       "      <td>1</td>\n",
       "      <td>0</td>\n",
       "      <td>0</td>\n",
       "    </tr>\n",
       "  </tbody>\n",
       "</table>\n",
       "<p>5 rows × 113 columns</p>\n",
       "</div>"
      ],
      "text/plain": [
       "   Unnamed: 0.1  Unnamed: 0  host_response_rate  host_acceptance_rate  \\\n",
       "0             0           0                 100                    50   \n",
       "1             1           1                 100                   100   \n",
       "2             2           2                   0                     0   \n",
       "3             3           3                   0                     0   \n",
       "4             4           4                   0                     0   \n",
       "\n",
       "   host_listings_count  host_total_listings_count  host_verifications  \\\n",
       "0                    1                          1                   5   \n",
       "1                    0                          0                   2   \n",
       "2                    1                          1                   4   \n",
       "3                    2                          2                   6   \n",
       "4                    0                          0                   2   \n",
       "\n",
       "   latitude  longitude  accommodates  ...  bathrooms_text_3.5 baths  \\\n",
       "0  52.35713    4.92470             1  ...                         0   \n",
       "1  52.38810    4.91438             2  ...                         0   \n",
       "2  52.37370    4.86340             2  ...                         0   \n",
       "3  52.36181    4.88783             2  ...                         0   \n",
       "4  52.34766    4.85982             2  ...                         0   \n",
       "\n",
       "   bathrooms_text_3.5 shared baths  bathrooms_text_4 baths  \\\n",
       "0                                0                       0   \n",
       "1                                0                       0   \n",
       "2                                0                       0   \n",
       "3                                0                       0   \n",
       "4                                0                       0   \n",
       "\n",
       "   bathrooms_text_Shared half-bath  bathrooms_text_unknown  \\\n",
       "0                                0                       0   \n",
       "1                                0                       0   \n",
       "2                                0                       0   \n",
       "3                                0                       0   \n",
       "4                                0                       0   \n",
       "\n",
       "   host_identity_verified_t  host_has_profile_pic_t  has_availability_t  \\\n",
       "0                         1                       1                   1   \n",
       "1                         1                       1                   1   \n",
       "2                         1                       1                   1   \n",
       "3                         1                       1                   1   \n",
       "4                         0                       1                   1   \n",
       "\n",
       "   instant_bookable_t  host_is_superhost_t  \n",
       "0                   0                    0  \n",
       "1                   1                    0  \n",
       "2                   1                    0  \n",
       "3                   0                    0  \n",
       "4                   0                    0  \n",
       "\n",
       "[5 rows x 113 columns]"
      ]
     },
     "execution_count": 30,
     "metadata": {},
     "output_type": "execute_result"
    }
   ],
   "source": [
    "test_csv1.head()"
   ]
  },
  {
   "cell_type": "code",
   "execution_count": 31,
   "id": "f60f03d8",
   "metadata": {},
   "outputs": [
    {
     "data": {
      "text/html": [
       "<div>\n",
       "<style scoped>\n",
       "    .dataframe tbody tr th:only-of-type {\n",
       "        vertical-align: middle;\n",
       "    }\n",
       "\n",
       "    .dataframe tbody tr th {\n",
       "        vertical-align: top;\n",
       "    }\n",
       "\n",
       "    .dataframe thead th {\n",
       "        text-align: right;\n",
       "    }\n",
       "</style>\n",
       "<table border=\"1\" class=\"dataframe\">\n",
       "  <thead>\n",
       "    <tr style=\"text-align: right;\">\n",
       "      <th></th>\n",
       "      <th>Unnamed: 0.1</th>\n",
       "      <th>Unnamed: 0</th>\n",
       "      <th>host_response_rate</th>\n",
       "      <th>host_acceptance_rate</th>\n",
       "      <th>host_listings_count</th>\n",
       "      <th>host_total_listings_count</th>\n",
       "      <th>host_verifications</th>\n",
       "      <th>latitude</th>\n",
       "      <th>longitude</th>\n",
       "      <th>accommodates</th>\n",
       "      <th>...</th>\n",
       "      <th>bathrooms_text_3.5 baths</th>\n",
       "      <th>bathrooms_text_3.5 shared baths</th>\n",
       "      <th>bathrooms_text_4 baths</th>\n",
       "      <th>bathrooms_text_Shared half-bath</th>\n",
       "      <th>bathrooms_text_unknown</th>\n",
       "      <th>host_identity_verified_t</th>\n",
       "      <th>host_has_profile_pic_t</th>\n",
       "      <th>has_availability_t</th>\n",
       "      <th>instant_bookable_t</th>\n",
       "      <th>host_is_superhost_t</th>\n",
       "    </tr>\n",
       "  </thead>\n",
       "  <tbody>\n",
       "    <tr>\n",
       "      <th>0</th>\n",
       "      <td>0</td>\n",
       "      <td>0</td>\n",
       "      <td>100</td>\n",
       "      <td>75</td>\n",
       "      <td>13</td>\n",
       "      <td>13</td>\n",
       "      <td>8</td>\n",
       "      <td>52.39508</td>\n",
       "      <td>4.99186</td>\n",
       "      <td>3</td>\n",
       "      <td>...</td>\n",
       "      <td>0</td>\n",
       "      <td>0</td>\n",
       "      <td>0</td>\n",
       "      <td>0</td>\n",
       "      <td>0</td>\n",
       "      <td>1</td>\n",
       "      <td>1</td>\n",
       "      <td>1</td>\n",
       "      <td>0</td>\n",
       "      <td>0</td>\n",
       "    </tr>\n",
       "    <tr>\n",
       "      <th>1</th>\n",
       "      <td>1</td>\n",
       "      <td>1</td>\n",
       "      <td>0</td>\n",
       "      <td>0</td>\n",
       "      <td>0</td>\n",
       "      <td>0</td>\n",
       "      <td>3</td>\n",
       "      <td>52.36371</td>\n",
       "      <td>4.90745</td>\n",
       "      <td>4</td>\n",
       "      <td>...</td>\n",
       "      <td>0</td>\n",
       "      <td>0</td>\n",
       "      <td>0</td>\n",
       "      <td>0</td>\n",
       "      <td>0</td>\n",
       "      <td>0</td>\n",
       "      <td>1</td>\n",
       "      <td>1</td>\n",
       "      <td>0</td>\n",
       "      <td>0</td>\n",
       "    </tr>\n",
       "    <tr>\n",
       "      <th>2</th>\n",
       "      <td>2</td>\n",
       "      <td>2</td>\n",
       "      <td>100</td>\n",
       "      <td>97</td>\n",
       "      <td>20</td>\n",
       "      <td>20</td>\n",
       "      <td>2</td>\n",
       "      <td>52.35482</td>\n",
       "      <td>4.85329</td>\n",
       "      <td>2</td>\n",
       "      <td>...</td>\n",
       "      <td>0</td>\n",
       "      <td>0</td>\n",
       "      <td>0</td>\n",
       "      <td>0</td>\n",
       "      <td>0</td>\n",
       "      <td>1</td>\n",
       "      <td>1</td>\n",
       "      <td>1</td>\n",
       "      <td>1</td>\n",
       "      <td>1</td>\n",
       "    </tr>\n",
       "    <tr>\n",
       "      <th>3</th>\n",
       "      <td>3</td>\n",
       "      <td>3</td>\n",
       "      <td>100</td>\n",
       "      <td>67</td>\n",
       "      <td>1</td>\n",
       "      <td>1</td>\n",
       "      <td>3</td>\n",
       "      <td>52.36446</td>\n",
       "      <td>4.85972</td>\n",
       "      <td>2</td>\n",
       "      <td>...</td>\n",
       "      <td>0</td>\n",
       "      <td>0</td>\n",
       "      <td>0</td>\n",
       "      <td>0</td>\n",
       "      <td>0</td>\n",
       "      <td>0</td>\n",
       "      <td>1</td>\n",
       "      <td>1</td>\n",
       "      <td>0</td>\n",
       "      <td>0</td>\n",
       "    </tr>\n",
       "    <tr>\n",
       "      <th>4</th>\n",
       "      <td>4</td>\n",
       "      <td>4</td>\n",
       "      <td>100</td>\n",
       "      <td>75</td>\n",
       "      <td>1</td>\n",
       "      <td>1</td>\n",
       "      <td>9</td>\n",
       "      <td>52.34176</td>\n",
       "      <td>4.84782</td>\n",
       "      <td>2</td>\n",
       "      <td>...</td>\n",
       "      <td>0</td>\n",
       "      <td>0</td>\n",
       "      <td>0</td>\n",
       "      <td>0</td>\n",
       "      <td>0</td>\n",
       "      <td>1</td>\n",
       "      <td>1</td>\n",
       "      <td>1</td>\n",
       "      <td>0</td>\n",
       "      <td>1</td>\n",
       "    </tr>\n",
       "  </tbody>\n",
       "</table>\n",
       "<p>5 rows × 104 columns</p>\n",
       "</div>"
      ],
      "text/plain": [
       "   Unnamed: 0.1  Unnamed: 0  host_response_rate  host_acceptance_rate  \\\n",
       "0             0           0                 100                    75   \n",
       "1             1           1                   0                     0   \n",
       "2             2           2                 100                    97   \n",
       "3             3           3                 100                    67   \n",
       "4             4           4                 100                    75   \n",
       "\n",
       "   host_listings_count  host_total_listings_count  host_verifications  \\\n",
       "0                   13                         13                   8   \n",
       "1                    0                          0                   3   \n",
       "2                   20                         20                   2   \n",
       "3                    1                          1                   3   \n",
       "4                    1                          1                   9   \n",
       "\n",
       "   latitude  longitude  accommodates  ...  bathrooms_text_3.5 baths  \\\n",
       "0  52.39508    4.99186             3  ...                         0   \n",
       "1  52.36371    4.90745             4  ...                         0   \n",
       "2  52.35482    4.85329             2  ...                         0   \n",
       "3  52.36446    4.85972             2  ...                         0   \n",
       "4  52.34176    4.84782             2  ...                         0   \n",
       "\n",
       "   bathrooms_text_3.5 shared baths  bathrooms_text_4 baths  \\\n",
       "0                                0                       0   \n",
       "1                                0                       0   \n",
       "2                                0                       0   \n",
       "3                                0                       0   \n",
       "4                                0                       0   \n",
       "\n",
       "   bathrooms_text_Shared half-bath  bathrooms_text_unknown  \\\n",
       "0                                0                       0   \n",
       "1                                0                       0   \n",
       "2                                0                       0   \n",
       "3                                0                       0   \n",
       "4                                0                       0   \n",
       "\n",
       "   host_identity_verified_t  host_has_profile_pic_t  has_availability_t  \\\n",
       "0                         1                       1                   1   \n",
       "1                         0                       1                   1   \n",
       "2                         1                       1                   1   \n",
       "3                         0                       1                   1   \n",
       "4                         1                       1                   1   \n",
       "\n",
       "   instant_bookable_t  host_is_superhost_t  \n",
       "0                   0                    0  \n",
       "1                   0                    0  \n",
       "2                   1                    1  \n",
       "3                   0                    0  \n",
       "4                   0                    1  \n",
       "\n",
       "[5 rows x 104 columns]"
      ]
     },
     "execution_count": 31,
     "metadata": {},
     "output_type": "execute_result"
    }
   ],
   "source": [
    "X.head()"
   ]
  },
  {
   "cell_type": "markdown",
   "id": "602fd1ad",
   "metadata": {},
   "source": [
    "no_estan=[]\n",
    "\n",
    "for i in range(len(X.columns)):\n",
    "\n",
    "    if X.columns[i] not in test_csv1.columns:\n",
    "        \n",
    "        print(X.columns[i])\n",
    "              \n",
    "        X=X.drop(X.columns[i],axis=1)\n",
    "\n",
    "for i in range(len(X.columns)):\n",
    "\n",
    "    if test_csv1.columns[i] not in X.columns:\n",
    "        \n",
    "        test_csv1=test_csv1.drop(test_csv1.columns[i],axis=1)"
   ]
  },
  {
   "cell_type": "code",
   "execution_count": 18,
   "id": "6c031435",
   "metadata": {},
   "outputs": [],
   "source": [
    "#Añadimos las columnas a test_csv1, test_csv2, test_csv3, test_csv4"
   ]
  },
  {
   "cell_type": "code",
   "execution_count": 19,
   "id": "b3836166",
   "metadata": {},
   "outputs": [],
   "source": [
    "#test_csv1[no_estan]=0\n",
    "#test_csv2[no_estan]=0\n",
    "#test_csv3[no_estan]=0\n",
    "#test_csv4[no_estan]=0"
   ]
  },
  {
   "cell_type": "code",
   "execution_count": 33,
   "id": "00b00245",
   "metadata": {},
   "outputs": [
    {
     "name": "stderr",
     "output_type": "stream",
     "text": [
      "/Users/danigomezlechonbarrachina/opt/anaconda3/envs/Ironhack/lib/python3.9/site-packages/sklearn/base.py:493: FutureWarning: The feature names should match those that were passed during fit. Starting version 1.2, an error will be raised.\n",
      "Feature names unseen at fit time:\n",
      "- host_location_Brazil\n",
      "- host_location_Malta\n",
      "- host_location_Poland\n",
      "Feature names seen at fit time, yet now missing:\n",
      "- bathrooms_text_4 shared baths\n",
      "- bathrooms_text_4.5 baths\n",
      "- bathrooms_text_5 baths\n",
      "- bathrooms_text_5.5 baths\n",
      "- bathrooms_text_Half-bath\n",
      "- ...\n",
      "\n",
      "  warnings.warn(message, FutureWarning)\n"
     ]
    },
    {
     "ename": "ValueError",
     "evalue": "X has 107 features, but GradientBoostingRegressor is expecting 120 features as input.",
     "output_type": "error",
     "traceback": [
      "\u001b[0;31m---------------------------------------------------------------------------\u001b[0m",
      "\u001b[0;31mValueError\u001b[0m                                Traceback (most recent call last)",
      "Input \u001b[0;32mIn [33]\u001b[0m, in \u001b[0;36m<cell line: 1>\u001b[0;34m()\u001b[0m\n\u001b[0;32m----> 1\u001b[0m y_pred1\u001b[38;5;241m=\u001b[39m\u001b[43mgbr\u001b[49m\u001b[38;5;241;43m.\u001b[39;49m\u001b[43mpredict\u001b[49m\u001b[43m(\u001b[49m\u001b[43mtest_csv1\u001b[49m\u001b[43m)\u001b[49m\n\u001b[1;32m      2\u001b[0m y_pred2\u001b[38;5;241m=\u001b[39mxgbr\u001b[38;5;241m.\u001b[39mpredict(test_csv2)\n\u001b[1;32m      3\u001b[0m y_pred3\u001b[38;5;241m=\u001b[39mctr\u001b[38;5;241m.\u001b[39mpredict(test_csv3)\n",
      "File \u001b[0;32m~/opt/anaconda3/envs/Ironhack/lib/python3.9/site-packages/sklearn/ensemble/_gb.py:1877\u001b[0m, in \u001b[0;36mGradientBoostingRegressor.predict\u001b[0;34m(self, X)\u001b[0m\n\u001b[1;32m   1862\u001b[0m \u001b[38;5;28;01mdef\u001b[39;00m \u001b[38;5;21mpredict\u001b[39m(\u001b[38;5;28mself\u001b[39m, X):\n\u001b[1;32m   1863\u001b[0m     \u001b[38;5;124;03m\"\"\"Predict regression target for X.\u001b[39;00m\n\u001b[1;32m   1864\u001b[0m \n\u001b[1;32m   1865\u001b[0m \u001b[38;5;124;03m    Parameters\u001b[39;00m\n\u001b[0;32m   (...)\u001b[0m\n\u001b[1;32m   1875\u001b[0m \u001b[38;5;124;03m        The predicted values.\u001b[39;00m\n\u001b[1;32m   1876\u001b[0m \u001b[38;5;124;03m    \"\"\"\u001b[39;00m\n\u001b[0;32m-> 1877\u001b[0m     X \u001b[38;5;241m=\u001b[39m \u001b[38;5;28;43mself\u001b[39;49m\u001b[38;5;241;43m.\u001b[39;49m\u001b[43m_validate_data\u001b[49m\u001b[43m(\u001b[49m\n\u001b[1;32m   1878\u001b[0m \u001b[43m        \u001b[49m\u001b[43mX\u001b[49m\u001b[43m,\u001b[49m\u001b[43m \u001b[49m\u001b[43mdtype\u001b[49m\u001b[38;5;241;43m=\u001b[39;49m\u001b[43mDTYPE\u001b[49m\u001b[43m,\u001b[49m\u001b[43m \u001b[49m\u001b[43morder\u001b[49m\u001b[38;5;241;43m=\u001b[39;49m\u001b[38;5;124;43m\"\u001b[39;49m\u001b[38;5;124;43mC\u001b[39;49m\u001b[38;5;124;43m\"\u001b[39;49m\u001b[43m,\u001b[49m\u001b[43m \u001b[49m\u001b[43maccept_sparse\u001b[49m\u001b[38;5;241;43m=\u001b[39;49m\u001b[38;5;124;43m\"\u001b[39;49m\u001b[38;5;124;43mcsr\u001b[39;49m\u001b[38;5;124;43m\"\u001b[39;49m\u001b[43m,\u001b[49m\u001b[43m \u001b[49m\u001b[43mreset\u001b[49m\u001b[38;5;241;43m=\u001b[39;49m\u001b[38;5;28;43;01mFalse\u001b[39;49;00m\n\u001b[1;32m   1879\u001b[0m \u001b[43m    \u001b[49m\u001b[43m)\u001b[49m\n\u001b[1;32m   1880\u001b[0m     \u001b[38;5;66;03m# In regression we can directly return the raw value from the trees.\u001b[39;00m\n\u001b[1;32m   1881\u001b[0m     \u001b[38;5;28;01mreturn\u001b[39;00m \u001b[38;5;28mself\u001b[39m\u001b[38;5;241m.\u001b[39m_raw_predict(X)\u001b[38;5;241m.\u001b[39mravel()\n",
      "File \u001b[0;32m~/opt/anaconda3/envs/Ironhack/lib/python3.9/site-packages/sklearn/base.py:585\u001b[0m, in \u001b[0;36mBaseEstimator._validate_data\u001b[0;34m(self, X, y, reset, validate_separately, **check_params)\u001b[0m\n\u001b[1;32m    582\u001b[0m     out \u001b[38;5;241m=\u001b[39m X, y\n\u001b[1;32m    584\u001b[0m \u001b[38;5;28;01mif\u001b[39;00m \u001b[38;5;129;01mnot\u001b[39;00m no_val_X \u001b[38;5;129;01mand\u001b[39;00m check_params\u001b[38;5;241m.\u001b[39mget(\u001b[38;5;124m\"\u001b[39m\u001b[38;5;124mensure_2d\u001b[39m\u001b[38;5;124m\"\u001b[39m, \u001b[38;5;28;01mTrue\u001b[39;00m):\n\u001b[0;32m--> 585\u001b[0m     \u001b[38;5;28;43mself\u001b[39;49m\u001b[38;5;241;43m.\u001b[39;49m\u001b[43m_check_n_features\u001b[49m\u001b[43m(\u001b[49m\u001b[43mX\u001b[49m\u001b[43m,\u001b[49m\u001b[43m \u001b[49m\u001b[43mreset\u001b[49m\u001b[38;5;241;43m=\u001b[39;49m\u001b[43mreset\u001b[49m\u001b[43m)\u001b[49m\n\u001b[1;32m    587\u001b[0m \u001b[38;5;28;01mreturn\u001b[39;00m out\n",
      "File \u001b[0;32m~/opt/anaconda3/envs/Ironhack/lib/python3.9/site-packages/sklearn/base.py:400\u001b[0m, in \u001b[0;36mBaseEstimator._check_n_features\u001b[0;34m(self, X, reset)\u001b[0m\n\u001b[1;32m    397\u001b[0m     \u001b[38;5;28;01mreturn\u001b[39;00m\n\u001b[1;32m    399\u001b[0m \u001b[38;5;28;01mif\u001b[39;00m n_features \u001b[38;5;241m!=\u001b[39m \u001b[38;5;28mself\u001b[39m\u001b[38;5;241m.\u001b[39mn_features_in_:\n\u001b[0;32m--> 400\u001b[0m     \u001b[38;5;28;01mraise\u001b[39;00m \u001b[38;5;167;01mValueError\u001b[39;00m(\n\u001b[1;32m    401\u001b[0m         \u001b[38;5;124mf\u001b[39m\u001b[38;5;124m\"\u001b[39m\u001b[38;5;124mX has \u001b[39m\u001b[38;5;132;01m{\u001b[39;00mn_features\u001b[38;5;132;01m}\u001b[39;00m\u001b[38;5;124m features, but \u001b[39m\u001b[38;5;132;01m{\u001b[39;00m\u001b[38;5;28mself\u001b[39m\u001b[38;5;241m.\u001b[39m\u001b[38;5;18m__class__\u001b[39m\u001b[38;5;241m.\u001b[39m\u001b[38;5;18m__name__\u001b[39m\u001b[38;5;132;01m}\u001b[39;00m\u001b[38;5;124m \u001b[39m\u001b[38;5;124m\"\u001b[39m\n\u001b[1;32m    402\u001b[0m         \u001b[38;5;124mf\u001b[39m\u001b[38;5;124m\"\u001b[39m\u001b[38;5;124mis expecting \u001b[39m\u001b[38;5;132;01m{\u001b[39;00m\u001b[38;5;28mself\u001b[39m\u001b[38;5;241m.\u001b[39mn_features_in_\u001b[38;5;132;01m}\u001b[39;00m\u001b[38;5;124m features as input.\u001b[39m\u001b[38;5;124m\"\u001b[39m\n\u001b[1;32m    403\u001b[0m     )\n",
      "\u001b[0;31mValueError\u001b[0m: X has 107 features, but GradientBoostingRegressor is expecting 120 features as input."
     ]
    }
   ],
   "source": [
    "y_pred1=gbr.predict(test_csv1)\n",
    "y_pred2=xgbr.predict(test_csv2)\n",
    "y_pred3=ctr.predict(test_csv3)\n",
    "y_pred4=rfr.predict(test_csv4)"
   ]
  },
  {
   "cell_type": "code",
   "execution_count": null,
   "id": "a71bc128",
   "metadata": {},
   "outputs": [],
   "source": [
    "test_csv1[\"price\"]=y_pred1\n",
    "test_csv2[\"price\"]=y_pred2\n",
    "test_csv3[\"price\"]=y_pred3\n",
    "test_csv4[\"price\"]=y_pred4"
   ]
  },
  {
   "cell_type": "code",
   "execution_count": null,
   "id": "9abb2886",
   "metadata": {},
   "outputs": [],
   "source": [
    "sample_final1=test_csv1[[\"price\",\"Unnamed: 0\"]]\n",
    "sample_final2=test_csv2[[\"price\",\"Unnamed: 0\"]]\n",
    "sample_final3=test_csv3[[\"price\",\"Unnamed: 0\"]]\n",
    "sample_final4=test_csv4[[\"price\",\"Unnamed: 0\"]]"
   ]
  },
  {
   "cell_type": "code",
   "execution_count": null,
   "id": "269b80d7",
   "metadata": {},
   "outputs": [],
   "source": [
    "sample_final1.rename(columns={\"Unnamed: 0\": \"id\"},inplace=True)\n",
    "sample_final2.rename(columns={\"Unnamed: 0\": \"id\"},inplace=True)\n",
    "sample_final3.rename(columns={\"Unnamed: 0\": \"id\"},inplace=True)\n",
    "sample_final4.rename(columns={\"Unnamed: 0\": \"id\"},inplace=True)"
   ]
  },
  {
   "cell_type": "code",
   "execution_count": null,
   "id": "321a3ca6",
   "metadata": {},
   "outputs": [],
   "source": [
    "sample_final1.to_csv(\"../data/sample_final1_cleaning2.csv\", index=False)\n",
    "sample_final2.to_csv(\"../data/sample_final2.csv_cleaning2\", index=False)\n",
    "sample_final3.to_csv(\"../data/sample_final3.csv_cleaning2\", index=False)\n",
    "sample_final4.to_csv(\"../data/sample_final4.csv_cleaning2\", index=False)"
   ]
  }
 ],
 "metadata": {
  "kernelspec": {
   "display_name": "Ironhack",
   "language": "python",
   "name": "ironhack"
  },
  "language_info": {
   "codemirror_mode": {
    "name": "ipython",
    "version": 3
   },
   "file_extension": ".py",
   "mimetype": "text/x-python",
   "name": "python",
   "nbconvert_exporter": "python",
   "pygments_lexer": "ipython3",
   "version": "3.9.7"
  }
 },
 "nbformat": 4,
 "nbformat_minor": 5
}
